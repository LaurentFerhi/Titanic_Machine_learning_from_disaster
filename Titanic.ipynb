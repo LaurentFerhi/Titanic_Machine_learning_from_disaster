{
 "cells": [
  {
   "cell_type": "markdown",
   "metadata": {},
   "source": [
    "# Titanic machine learning - 79%\n",
    "https://www.kaggle.com/c/titanic"
   ]
  },
  {
   "cell_type": "code",
   "execution_count": 3,
   "metadata": {},
   "outputs": [],
   "source": [
    "import numpy as np\n",
    "import pandas as pd\n",
    "import matplotlib.pyplot as plt\n",
    "import seaborn as sns\n",
    "from time import time\n",
    "\n",
    "%matplotlib inline\n",
    "sns.set()\n",
    "\n",
    "from sklearn.model_selection import train_test_split\n",
    "from sklearn.model_selection import ShuffleSplit\n",
    "from sklearn.pipeline import Pipeline\n",
    "from sklearn.model_selection import GridSearchCV\n",
    "from sklearn.ensemble import RandomForestRegressor\n",
    "from sklearn.metrics import mean_squared_error\n",
    "from sklearn.metrics import r2_score\n",
    "\n",
    "import keras\n",
    "from keras.models import Sequential\n",
    "from keras.layers import Dense\n",
    "from keras.callbacks import EarlyStopping, ModelCheckpoint \n",
    "from tensorflow.keras.models import load_model"
   ]
  },
  {
   "cell_type": "code",
   "execution_count": 4,
   "metadata": {},
   "outputs": [
    {
     "data": {
      "text/html": [
       "<div>\n",
       "<style scoped>\n",
       "    .dataframe tbody tr th:only-of-type {\n",
       "        vertical-align: middle;\n",
       "    }\n",
       "\n",
       "    .dataframe tbody tr th {\n",
       "        vertical-align: top;\n",
       "    }\n",
       "\n",
       "    .dataframe thead th {\n",
       "        text-align: right;\n",
       "    }\n",
       "</style>\n",
       "<table border=\"1\" class=\"dataframe\">\n",
       "  <thead>\n",
       "    <tr style=\"text-align: right;\">\n",
       "      <th></th>\n",
       "      <th>PassengerId</th>\n",
       "      <th>Survived</th>\n",
       "      <th>Pclass</th>\n",
       "      <th>Name</th>\n",
       "      <th>Sex</th>\n",
       "      <th>Age</th>\n",
       "      <th>SibSp</th>\n",
       "      <th>Parch</th>\n",
       "      <th>Ticket</th>\n",
       "      <th>Fare</th>\n",
       "      <th>Cabin</th>\n",
       "      <th>Embarked</th>\n",
       "    </tr>\n",
       "  </thead>\n",
       "  <tbody>\n",
       "    <tr>\n",
       "      <th>0</th>\n",
       "      <td>1</td>\n",
       "      <td>0.0</td>\n",
       "      <td>3</td>\n",
       "      <td>Braund, Mr. Owen Harris</td>\n",
       "      <td>male</td>\n",
       "      <td>22.0</td>\n",
       "      <td>1</td>\n",
       "      <td>0</td>\n",
       "      <td>A/5 21171</td>\n",
       "      <td>7.2500</td>\n",
       "      <td>NaN</td>\n",
       "      <td>S</td>\n",
       "    </tr>\n",
       "    <tr>\n",
       "      <th>1</th>\n",
       "      <td>2</td>\n",
       "      <td>1.0</td>\n",
       "      <td>1</td>\n",
       "      <td>Cumings, Mrs. John Bradley (Florence Briggs Th...</td>\n",
       "      <td>female</td>\n",
       "      <td>38.0</td>\n",
       "      <td>1</td>\n",
       "      <td>0</td>\n",
       "      <td>PC 17599</td>\n",
       "      <td>71.2833</td>\n",
       "      <td>C85</td>\n",
       "      <td>C</td>\n",
       "    </tr>\n",
       "    <tr>\n",
       "      <th>2</th>\n",
       "      <td>3</td>\n",
       "      <td>1.0</td>\n",
       "      <td>3</td>\n",
       "      <td>Heikkinen, Miss. Laina</td>\n",
       "      <td>female</td>\n",
       "      <td>26.0</td>\n",
       "      <td>0</td>\n",
       "      <td>0</td>\n",
       "      <td>STON/O2. 3101282</td>\n",
       "      <td>7.9250</td>\n",
       "      <td>NaN</td>\n",
       "      <td>S</td>\n",
       "    </tr>\n",
       "    <tr>\n",
       "      <th>3</th>\n",
       "      <td>4</td>\n",
       "      <td>1.0</td>\n",
       "      <td>1</td>\n",
       "      <td>Futrelle, Mrs. Jacques Heath (Lily May Peel)</td>\n",
       "      <td>female</td>\n",
       "      <td>35.0</td>\n",
       "      <td>1</td>\n",
       "      <td>0</td>\n",
       "      <td>113803</td>\n",
       "      <td>53.1000</td>\n",
       "      <td>C123</td>\n",
       "      <td>S</td>\n",
       "    </tr>\n",
       "    <tr>\n",
       "      <th>4</th>\n",
       "      <td>5</td>\n",
       "      <td>0.0</td>\n",
       "      <td>3</td>\n",
       "      <td>Allen, Mr. William Henry</td>\n",
       "      <td>male</td>\n",
       "      <td>35.0</td>\n",
       "      <td>0</td>\n",
       "      <td>0</td>\n",
       "      <td>373450</td>\n",
       "      <td>8.0500</td>\n",
       "      <td>NaN</td>\n",
       "      <td>S</td>\n",
       "    </tr>\n",
       "  </tbody>\n",
       "</table>\n",
       "</div>"
      ],
      "text/plain": [
       "   PassengerId  Survived  Pclass  \\\n",
       "0            1       0.0       3   \n",
       "1            2       1.0       1   \n",
       "2            3       1.0       3   \n",
       "3            4       1.0       1   \n",
       "4            5       0.0       3   \n",
       "\n",
       "                                                Name     Sex   Age  SibSp  \\\n",
       "0                            Braund, Mr. Owen Harris    male  22.0      1   \n",
       "1  Cumings, Mrs. John Bradley (Florence Briggs Th...  female  38.0      1   \n",
       "2                             Heikkinen, Miss. Laina  female  26.0      0   \n",
       "3       Futrelle, Mrs. Jacques Heath (Lily May Peel)  female  35.0      1   \n",
       "4                           Allen, Mr. William Henry    male  35.0      0   \n",
       "\n",
       "   Parch            Ticket     Fare Cabin Embarked  \n",
       "0      0         A/5 21171   7.2500   NaN        S  \n",
       "1      0          PC 17599  71.2833   C85        C  \n",
       "2      0  STON/O2. 3101282   7.9250   NaN        S  \n",
       "3      0            113803  53.1000  C123        S  \n",
       "4      0            373450   8.0500   NaN        S  "
      ]
     },
     "execution_count": 4,
     "metadata": {},
     "output_type": "execute_result"
    }
   ],
   "source": [
    "df_train = pd.read_csv('train.csv')\n",
    "df_test = pd.read_csv('test.csv')\n",
    "df_full = df_train.append(df_test , ignore_index = True)\n",
    "df_full.head()"
   ]
  },
  {
   "cell_type": "code",
   "execution_count": 5,
   "metadata": {},
   "outputs": [
    {
     "name": "stdout",
     "output_type": "stream",
     "text": [
      "<class 'pandas.core.frame.DataFrame'>\n",
      "RangeIndex: 1309 entries, 0 to 1308\n",
      "Data columns (total 12 columns):\n",
      " #   Column       Non-Null Count  Dtype  \n",
      "---  ------       --------------  -----  \n",
      " 0   PassengerId  1309 non-null   int64  \n",
      " 1   Survived     891 non-null    float64\n",
      " 2   Pclass       1309 non-null   int64  \n",
      " 3   Name         1309 non-null   object \n",
      " 4   Sex          1309 non-null   object \n",
      " 5   Age          1046 non-null   float64\n",
      " 6   SibSp        1309 non-null   int64  \n",
      " 7   Parch        1309 non-null   int64  \n",
      " 8   Ticket       1309 non-null   object \n",
      " 9   Fare         1308 non-null   float64\n",
      " 10  Cabin        295 non-null    object \n",
      " 11  Embarked     1307 non-null   object \n",
      "dtypes: float64(3), int64(4), object(5)\n",
      "memory usage: 122.8+ KB\n"
     ]
    }
   ],
   "source": [
    "df_full.info()"
   ]
  },
  {
   "cell_type": "code",
   "execution_count": 6,
   "metadata": {},
   "outputs": [],
   "source": [
    "df_full.drop(['PassengerId','Embarked'],axis=1,inplace=True)"
   ]
  },
  {
   "cell_type": "code",
   "execution_count": 7,
   "metadata": {},
   "outputs": [
    {
     "name": "stdout",
     "output_type": "stream",
     "text": [
      "<class 'pandas.core.frame.DataFrame'>\n",
      "RangeIndex: 1309 entries, 0 to 1308\n",
      "Data columns (total 10 columns):\n",
      " #   Column    Non-Null Count  Dtype  \n",
      "---  ------    --------------  -----  \n",
      " 0   Survived  891 non-null    float64\n",
      " 1   Pclass    1309 non-null   int64  \n",
      " 2   Name      1309 non-null   object \n",
      " 3   Sex       1309 non-null   object \n",
      " 4   Age       1046 non-null   float64\n",
      " 5   SibSp     1309 non-null   int64  \n",
      " 6   Parch     1309 non-null   int64  \n",
      " 7   Ticket    1309 non-null   object \n",
      " 8   Fare      1308 non-null   float64\n",
      " 9   Cabin     295 non-null    object \n",
      "dtypes: float64(3), int64(3), object(4)\n",
      "memory usage: 102.4+ KB\n"
     ]
    }
   ],
   "source": [
    "df_full.info()"
   ]
  },
  {
   "cell_type": "markdown",
   "metadata": {},
   "source": [
    "## Name - title"
   ]
  },
  {
   "cell_type": "code",
   "execution_count": 8,
   "metadata": {},
   "outputs": [
    {
     "data": {
      "text/plain": [
       "Mr              757\n",
       "Miss            260\n",
       "Mrs             197\n",
       "Master           61\n",
       "Dr                8\n",
       "Rev               8\n",
       "Col               4\n",
       "Major             2\n",
       "Ms                2\n",
       "Mlle              2\n",
       "Lady              1\n",
       "Dona              1\n",
       "Sir               1\n",
       "Don               1\n",
       "Jonkheer          1\n",
       "Mme               1\n",
       "Capt              1\n",
       "the Countess      1\n",
       "Name: title, dtype: int64"
      ]
     },
     "execution_count": 8,
     "metadata": {},
     "output_type": "execute_result"
    }
   ],
   "source": [
    "df_full['title'] = df_full['Name'].apply(lambda name: name.split(',')[1].split('.')[0].strip(' '))\n",
    "df_full['title'].value_counts()"
   ]
  },
  {
   "cell_type": "code",
   "execution_count": 9,
   "metadata": {},
   "outputs": [
    {
     "data": {
      "text/plain": [
       "Mr            757\n",
       "Miss          262\n",
       "Mrs           200\n",
       "Mr_titled      87\n",
       "Mrs_titled      3\n",
       "Name: title, dtype: int64"
      ]
     },
     "execution_count": 9,
     "metadata": {},
     "output_type": "execute_result"
    }
   ],
   "source": [
    "### Merging titles\n",
    "\n",
    "# untitled women\n",
    "df_full['title'] = df_full['title'].apply(lambda x: 'Miss' if x in ['Mlle'] else x)\n",
    "df_full['title'] = df_full['title'].apply(lambda x: 'Mrs' if x in ['Mme','Ms'] else x)\n",
    "\n",
    "# titled women\n",
    "df_full['title'] = df_full['title'].apply(lambda x: 'Mrs_titled' if x in [\n",
    "    'Dona',\n",
    "    'Lady',\n",
    "    'the Countess'\n",
    "] else x)\n",
    "\n",
    "# titled people\n",
    "df_full['title'] = df_full['title'].apply(lambda x: 'Mr_titled' if x in [\n",
    "    'Master',\n",
    "    'Dr',\n",
    "    'Rev',\n",
    "    'Col',\n",
    "    'Major',\n",
    "    'Sir',\n",
    "    'Don',\n",
    "    'Capt',\n",
    "    'Jonkheer'\n",
    "] else x)\n",
    "\n",
    "df_full['title'].value_counts()"
   ]
  },
  {
   "cell_type": "code",
   "execution_count": 10,
   "metadata": {},
   "outputs": [],
   "source": [
    "# Too few titled women -> gathered with womens\n",
    "df_full['title'] = df_full['title'].apply(lambda x: 'Mrs' if x in ['Mrs_titled'] else x)"
   ]
  },
  {
   "cell_type": "code",
   "execution_count": 11,
   "metadata": {},
   "outputs": [
    {
     "data": {
      "text/plain": [
       "<matplotlib.axes._subplots.AxesSubplot at 0x19e89244748>"
      ]
     },
     "execution_count": 11,
     "metadata": {},
     "output_type": "execute_result"
    },
    {
     "data": {
      "image/png": "[encoded data removed]",
      "text/plain": [
       "<Figure size 432x288 with 1 Axes>"
      ]
     },
     "metadata": {},
     "output_type": "display_data"
    }
   ],
   "source": [
    "# check survivak mean in function of title\n",
    "df_full[['title', 'Survived']].groupby(['title']).mean().plot(kind='bar')"
   ]
  },
  {
   "cell_type": "markdown",
   "metadata": {},
   "source": [
    "## Family members"
   ]
  },
  {
   "cell_type": "code",
   "execution_count": 12,
   "metadata": {},
   "outputs": [
    {
     "data": {
      "text/plain": [
       "1     790\n",
       "2     235\n",
       "3     159\n",
       "4      43\n",
       "6      25\n",
       "5      22\n",
       "7      16\n",
       "11     11\n",
       "8       8\n",
       "Name: relatives, dtype: int64"
      ]
     },
     "execution_count": 12,
     "metadata": {},
     "output_type": "execute_result"
    }
   ],
   "source": [
    "# Sum all familiy members\n",
    "df_full['relatives'] = df_full['SibSp']+df_full['Parch']+1 # 1 person + x siblings + x children\n",
    "df_full['relatives'].value_counts()"
   ]
  },
  {
   "cell_type": "code",
   "execution_count": 13,
   "metadata": {},
   "outputs": [
    {
     "data": {
      "text/plain": [
       "<matplotlib.axes._subplots.AxesSubplot at 0x19e89398548>"
      ]
     },
     "execution_count": 13,
     "metadata": {},
     "output_type": "execute_result"
    },
    {
     "data": {
      "image/png": "[encoded data removed]",
      "text/plain": [
       "<Figure size 432x288 with 1 Axes>"
      ]
     },
     "metadata": {},
     "output_type": "display_data"
    }
   ],
   "source": [
    "# check survival mean in function of title\n",
    "df_full[['relatives', 'Survived']].groupby(['relatives']).mean().plot(kind='bar')"
   ]
  },
  {
   "cell_type": "markdown",
   "metadata": {},
   "source": [
    "## Fares"
   ]
  },
  {
   "cell_type": "code",
   "execution_count": 14,
   "metadata": {},
   "outputs": [
    {
     "data": {
      "text/html": [
       "<div>\n",
       "<style scoped>\n",
       "    .dataframe tbody tr th:only-of-type {\n",
       "        vertical-align: middle;\n",
       "    }\n",
       "\n",
       "    .dataframe tbody tr th {\n",
       "        vertical-align: top;\n",
       "    }\n",
       "\n",
       "    .dataframe thead th {\n",
       "        text-align: right;\n",
       "    }\n",
       "</style>\n",
       "<table border=\"1\" class=\"dataframe\">\n",
       "  <thead>\n",
       "    <tr style=\"text-align: right;\">\n",
       "      <th></th>\n",
       "      <th>Survived</th>\n",
       "      <th>Pclass</th>\n",
       "      <th>Name</th>\n",
       "      <th>Sex</th>\n",
       "      <th>Age</th>\n",
       "      <th>SibSp</th>\n",
       "      <th>Parch</th>\n",
       "      <th>Ticket</th>\n",
       "      <th>Fare</th>\n",
       "      <th>Cabin</th>\n",
       "      <th>title</th>\n",
       "      <th>relatives</th>\n",
       "    </tr>\n",
       "  </thead>\n",
       "  <tbody>\n",
       "    <tr>\n",
       "      <th>1043</th>\n",
       "      <td>NaN</td>\n",
       "      <td>3</td>\n",
       "      <td>Storey, Mr. Thomas</td>\n",
       "      <td>male</td>\n",
       "      <td>60.5</td>\n",
       "      <td>0</td>\n",
       "      <td>0</td>\n",
       "      <td>3701</td>\n",
       "      <td>NaN</td>\n",
       "      <td>NaN</td>\n",
       "      <td>Mr</td>\n",
       "      <td>1</td>\n",
       "    </tr>\n",
       "  </tbody>\n",
       "</table>\n",
       "</div>"
      ],
      "text/plain": [
       "      Survived  Pclass                Name   Sex   Age  SibSp  Parch Ticket  \\\n",
       "1043       NaN       3  Storey, Mr. Thomas  male  60.5      0      0   3701   \n",
       "\n",
       "      Fare Cabin title  relatives  \n",
       "1043   NaN   NaN    Mr          1  "
      ]
     },
     "execution_count": 14,
     "metadata": {},
     "output_type": "execute_result"
    }
   ],
   "source": [
    "df_full[df_full['Fare'].isna() == True]"
   ]
  },
  {
   "cell_type": "code",
   "execution_count": 15,
   "metadata": {},
   "outputs": [
    {
     "name": "stderr",
     "output_type": "stream",
     "text": [
      "C:\\ProgramData\\Anaconda3\\lib\\site-packages\\ipykernel_launcher.py:16: SettingWithCopyWarning: \n",
      "A value is trying to be set on a copy of a slice from a DataFrame\n",
      "\n",
      "See the caveats in the documentation: https://pandas.pydata.org/pandas-docs/stable/user_guide/indexing.html#returning-a-view-versus-a-copy\n",
      "  app.launch_new_instance()\n"
     ]
    }
   ],
   "source": [
    "# Mean fare function of Pclass','Age','relatives'\n",
    "fare_agg = df_full[[\n",
    "    'Fare', \n",
    "    'Pclass', \n",
    "    'Age',\n",
    "    'relatives']].groupby(['Pclass','Age','relatives']).mean().reset_index()\n",
    "\n",
    "# Fare esitmtor for Storey, Mr. Thomas\n",
    "fare_estimator = fare_agg[\n",
    "    (fare_agg['Pclass'] == 3)\n",
    "    & (fare_agg['relatives'] == 1)\n",
    "    & (fare_agg['Age'] < 70)\n",
    "    & (fare_agg['Age'] > 50)\n",
    "]['Fare'].mean()\n",
    "\n",
    "df_full['Fare'][1043] = fare_estimator"
   ]
  },
  {
   "cell_type": "code",
   "execution_count": 16,
   "metadata": {},
   "outputs": [
    {
     "data": {
      "text/plain": [
       "Survived                    NaN\n",
       "Pclass                        3\n",
       "Name         Storey, Mr. Thomas\n",
       "Sex                        male\n",
       "Age                        60.5\n",
       "SibSp                         0\n",
       "Parch                         0\n",
       "Ticket                     3701\n",
       "Fare                    7.74884\n",
       "Cabin                       NaN\n",
       "title                        Mr\n",
       "relatives                     1\n",
       "Name: 1043, dtype: object"
      ]
     },
     "execution_count": 16,
     "metadata": {},
     "output_type": "execute_result"
    }
   ],
   "source": [
    "df_full.iloc[1043]"
   ]
  },
  {
   "cell_type": "markdown",
   "metadata": {},
   "source": [
    "## Age"
   ]
  },
  {
   "cell_type": "code",
   "execution_count": 17,
   "metadata": {},
   "outputs": [
    {
     "data": {
      "text/plain": [
       "6.0    227\n",
       "4.0    179\n",
       "3.0    171\n",
       "2.0    140\n",
       "5.0    136\n",
       "1.0    103\n",
       "0.0     90\n",
       "Name: Age, dtype: int64"
      ]
     },
     "execution_count": 17,
     "metadata": {},
     "output_type": "execute_result"
    }
   ],
   "source": [
    "df_full['Age'] = pd.to_numeric(df_full['Age'], errors='coerce')\n",
    "\n",
    "df_full.loc[df_full['Age'] <= 11, 'Age'] = 0\n",
    "df_full.loc[(df_full['Age'] > 11) & (df_full['Age'] <= 18), 'Age'] = 1\n",
    "df_full.loc[(df_full['Age'] > 18) & (df_full['Age'] <= 22), 'Age'] = 2\n",
    "df_full.loc[(df_full['Age'] > 22) & (df_full['Age'] <= 27), 'Age'] = 3\n",
    "df_full.loc[(df_full['Age'] > 27) & (df_full['Age'] <= 33), 'Age'] = 4\n",
    "df_full.loc[(df_full['Age'] > 33) & (df_full['Age'] <= 40), 'Age'] = 5\n",
    "df_full.loc[(df_full['Age'] > 40) & (df_full['Age'] <= 66), 'Age'] = 6\n",
    "df_full.loc[df_full['Age'] > 66, 'Age'] = 6\n",
    "\n",
    "df_full['Age'].value_counts()"
   ]
  },
  {
   "cell_type": "code",
   "execution_count": 18,
   "metadata": {},
   "outputs": [
    {
     "name": "stdout",
     "output_type": "stream",
     "text": [
      "<class 'pandas.core.frame.DataFrame'>\n",
      "RangeIndex: 1309 entries, 0 to 1308\n",
      "Data columns (total 7 columns):\n",
      " #   Column     Non-Null Count  Dtype  \n",
      "---  ------     --------------  -----  \n",
      " 0   SibSp      1309 non-null   int64  \n",
      " 1   Fare       1309 non-null   float64\n",
      " 2   Age        1046 non-null   float64\n",
      " 3   Miss       1309 non-null   uint8  \n",
      " 4   Mr         1309 non-null   uint8  \n",
      " 5   Mr_titled  1309 non-null   uint8  \n",
      " 6   Mrs        1309 non-null   uint8  \n",
      "dtypes: float64(2), int64(1), uint8(4)\n",
      "memory usage: 35.9 KB\n"
     ]
    }
   ],
   "source": [
    "# Determining missing ages function of title, fare and siblings\n",
    "df_extract = df_full[['title','SibSp','Fare','Age']]\n",
    "df_extract = pd.concat([df_extract, pd.get_dummies(df_extract['title']),], axis = 1).drop('title',axis=1)\n",
    "df_extract.info()"
   ]
  },
  {
   "cell_type": "code",
   "execution_count": 19,
   "metadata": {},
   "outputs": [],
   "source": [
    "# Select features and labels\n",
    "X = df_extract.dropna().drop('Age', axis=1)\n",
    "y = df_full['Age'].dropna()\n",
    "X_user = df_extract.loc[np.isnan(df_full['Age'])].drop('Age', axis=1) # All rows w/o Age"
   ]
  },
  {
   "cell_type": "code",
   "execution_count": 20,
   "metadata": {},
   "outputs": [
    {
     "name": "stdout",
     "output_type": "stream",
     "text": [
      " > training classifier:\n",
      "Fitting 10 folds for each of 2 candidates, totalling 20 fits\n"
     ]
    },
    {
     "name": "stderr",
     "output_type": "stream",
     "text": [
      "[Parallel(n_jobs=1)]: Using backend SequentialBackend with 1 concurrent workers.\n",
      "[Parallel(n_jobs=1)]: Done  20 out of  20 | elapsed:    8.9s finished\n"
     ]
    },
    {
     "name": "stdout",
     "output_type": "stream",
     "text": [
      "training time:  9.542 s\n",
      "testing time:  0.031 s\n",
      "\n",
      " > Best grid search:\n",
      "{'RDFR__n_estimators': 200}\n",
      "RMSE: 1.615009327651131 \n",
      "r2: 0.23381148268145235\n"
     ]
    }
   ],
   "source": [
    "# Generate train and test sets\n",
    "X_train, X_test, y_train, y_test = train_test_split(X, y, test_size=0.2, random_state=42)\n",
    "\n",
    "# cross-validator : ShuffleSplit \n",
    "ss = ShuffleSplit(n_splits = 10, test_size = 0.2, random_state = 42) # To avoid over-fitting\n",
    "\n",
    "### Import regressor ###\n",
    "reg = RandomForestRegressor()\n",
    "\n",
    "# definition of the pipeline\n",
    "pipeline = Pipeline(steps = [(\"RDFR\",reg)])   \n",
    "\n",
    "# parameters to tune \n",
    "param_grid = {\"RDFR__n_estimators\":[100,200]}\n",
    "\n",
    "# exhaustive search over specified parameter\n",
    "grid = GridSearchCV(pipeline, param_grid, verbose = 1, cv = ss)\n",
    "\n",
    "# training classifier\n",
    "print (\" > training classifier:\")\n",
    "t0 = time()\n",
    "grid.fit(X_train, y_train)\n",
    "print (\"training time: \", round(time()-t0, 3), \"s\")\n",
    "\n",
    "# best classifier using the cross-validator and the Stratified Shuffle Split \n",
    "reg = grid.best_estimator_\n",
    "\n",
    "# predicition with the classifier\n",
    "t0 = time()\n",
    "pred = reg.predict(X_test)\n",
    "print (\"testing time: \", round(time()-t0, 3), \"s\")\n",
    "\n",
    "# print grid parameters\n",
    "print (\"\\n > Best grid search:\")\n",
    "print (grid.best_params_)\n",
    "\n",
    "RMSE = np.sqrt(mean_squared_error(y_test, pred))\n",
    "R2 = r2_score(y_test, pred)\n",
    "print('RMSE:',RMSE,'\\nr2:',R2)"
   ]
  },
  {
   "cell_type": "code",
   "execution_count": 21,
   "metadata": {},
   "outputs": [
    {
     "name": "stderr",
     "output_type": "stream",
     "text": [
      "C:\\ProgramData\\Anaconda3\\lib\\site-packages\\pandas\\core\\indexing.py:670: SettingWithCopyWarning: \n",
      "A value is trying to be set on a copy of a slice from a DataFrame\n",
      "\n",
      "See the caveats in the documentation: https://pandas.pydata.org/pandas-docs/stable/user_guide/indexing.html#returning-a-view-versus-a-copy\n",
      "  self._setitem_with_indexer(indexer, value)\n"
     ]
    }
   ],
   "source": [
    "# prediction based on classifier\n",
    "y_pred = np.round(reg.predict(X_user),0)\n",
    "# fill missing ages\n",
    "df_full['Age'].loc[df_full['Age'].isnull()] = y_pred"
   ]
  },
  {
   "cell_type": "code",
   "execution_count": 22,
   "metadata": {
    "scrolled": true
   },
   "outputs": [
    {
     "name": "stdout",
     "output_type": "stream",
     "text": [
      "<class 'pandas.core.frame.DataFrame'>\n",
      "RangeIndex: 1309 entries, 0 to 1308\n",
      "Data columns (total 12 columns):\n",
      " #   Column     Non-Null Count  Dtype  \n",
      "---  ------     --------------  -----  \n",
      " 0   Survived   891 non-null    float64\n",
      " 1   Pclass     1309 non-null   int64  \n",
      " 2   Name       1309 non-null   object \n",
      " 3   Sex        1309 non-null   object \n",
      " 4   Age        1309 non-null   float64\n",
      " 5   SibSp      1309 non-null   int64  \n",
      " 6   Parch      1309 non-null   int64  \n",
      " 7   Ticket     1309 non-null   object \n",
      " 8   Fare       1309 non-null   float64\n",
      " 9   Cabin      295 non-null    object \n",
      " 10  title      1309 non-null   object \n",
      " 11  relatives  1309 non-null   int64  \n",
      "dtypes: float64(3), int64(4), object(5)\n",
      "memory usage: 122.8+ KB\n"
     ]
    }
   ],
   "source": [
    "df_full.info()"
   ]
  },
  {
   "cell_type": "markdown",
   "metadata": {},
   "source": [
    "## Tickets"
   ]
  },
  {
   "cell_type": "code",
   "execution_count": 23,
   "metadata": {},
   "outputs": [],
   "source": [
    "# Check ticket layout by prefix of numerical part (if any)\n",
    "def extract_ticket_prefix(ticket_str):\n",
    "    if ticket_str.split(' ')[0] == ticket_str:\n",
    "        return ticket_str[0]\n",
    "    else:\n",
    "        return ticket_str.split(' ')[1][0]"
   ]
  },
  {
   "cell_type": "code",
   "execution_count": 24,
   "metadata": {},
   "outputs": [
    {
     "data": {
      "text/plain": [
       "<matplotlib.axes._subplots.AxesSubplot at 0x19e89484bc8>"
      ]
     },
     "execution_count": 24,
     "metadata": {},
     "output_type": "execute_result"
    },
    {
     "data": {
      "image/png": "[encoded data removed]",
      "text/plain": [
       "<Figure size 1152x432 with 1 Axes>"
      ]
     },
     "metadata": {},
     "output_type": "display_data"
    }
   ],
   "source": [
    "df_full['Ticket_prefix'] = df_full['Ticket'].apply(extract_ticket_prefix)\n",
    "\n",
    "df_pivoted = df_full.pivot_table(index=['Ticket_prefix'],columns=['Pclass'],aggfunc='size', fill_value=0)\n",
    "df_pivoted.plot(kind='bar', figsize=(16, 6))"
   ]
  },
  {
   "cell_type": "markdown",
   "metadata": {},
   "source": [
    "Correlated with Pclass -> to drop\n",
    "## Cabin"
   ]
  },
  {
   "cell_type": "code",
   "execution_count": 25,
   "metadata": {},
   "outputs": [
    {
     "data": {
      "text/plain": [
       "Unknown    1014\n",
       "C            94\n",
       "B            65\n",
       "D            46\n",
       "E            41\n",
       "A            22\n",
       "F            21\n",
       "G             5\n",
       "T             1\n",
       "Name: Cabin_prefix, dtype: int64"
      ]
     },
     "execution_count": 25,
     "metadata": {},
     "output_type": "execute_result"
    }
   ],
   "source": [
    "df_full['Cabin_prefix'] = df_full['Cabin'].apply(lambda x: str(x)[0] if pd.isna(x) == False else 'Unknown')\n",
    "df_full['Cabin_prefix'].value_counts()"
   ]
  },
  {
   "cell_type": "code",
   "execution_count": 26,
   "metadata": {},
   "outputs": [
    {
     "data": {
      "text/plain": [
       "<matplotlib.axes._subplots.AxesSubplot at 0x19e8958cd08>"
      ]
     },
     "execution_count": 26,
     "metadata": {},
     "output_type": "execute_result"
    },
    {
     "data": {
      "image/png": "[encoded data removed]",
      "text/plain": [
       "<Figure size 432x288 with 1 Axes>"
      ]
     },
     "metadata": {},
     "output_type": "display_data"
    }
   ],
   "source": [
    "# check survival mean in function of cabin prefix (deck maybe ?)\n",
    "df_full[['Cabin_prefix', 'Survived']].groupby(['Cabin_prefix']).mean().plot(kind='bar')"
   ]
  },
  {
   "cell_type": "code",
   "execution_count": 27,
   "metadata": {},
   "outputs": [],
   "source": [
    "### Merging decks\n",
    "df_full['Cabin_prefix'] = df_full['Cabin_prefix'].apply(lambda x: 'Top_deck' if x in ['A','B','C'] else x)\n",
    "df_full['Cabin_prefix'] = df_full['Cabin_prefix'].apply(lambda x: 'Mid_deck' if x in ['D','E'] else x)\n",
    "df_full['Cabin_prefix'] = df_full['Cabin_prefix'].apply(lambda x: 'Low_deck' if x in ['F','G','T'] else x)"
   ]
  },
  {
   "cell_type": "code",
   "execution_count": 28,
   "metadata": {
    "scrolled": false
   },
   "outputs": [
    {
     "data": {
      "text/plain": [
       "<matplotlib.axes._subplots.AxesSubplot at 0x19e8960ed08>"
      ]
     },
     "execution_count": 28,
     "metadata": {},
     "output_type": "execute_result"
    },
    {
     "data": {
      "image/png": "[encoded data removed]",
      "text/plain": [
       "<Figure size 432x288 with 1 Axes>"
      ]
     },
     "metadata": {},
     "output_type": "display_data"
    }
   ],
   "source": [
    "# check survival mean in function of cabin prefix (deck maybe ?)\n",
    "df_full[['Cabin_prefix', 'Survived']].groupby(['Cabin_prefix']).mean().plot(kind='bar')"
   ]
  },
  {
   "cell_type": "code",
   "execution_count": 29,
   "metadata": {},
   "outputs": [
    {
     "name": "stdout",
     "output_type": "stream",
     "text": [
      "<class 'pandas.core.frame.DataFrame'>\n",
      "RangeIndex: 1309 entries, 0 to 1308\n",
      "Data columns (total 14 columns):\n",
      " #   Column         Non-Null Count  Dtype  \n",
      "---  ------         --------------  -----  \n",
      " 0   Survived       891 non-null    float64\n",
      " 1   Pclass         1309 non-null   int64  \n",
      " 2   Name           1309 non-null   object \n",
      " 3   Sex            1309 non-null   object \n",
      " 4   Age            1309 non-null   float64\n",
      " 5   SibSp          1309 non-null   int64  \n",
      " 6   Parch          1309 non-null   int64  \n",
      " 7   Ticket         1309 non-null   object \n",
      " 8   Fare           1309 non-null   float64\n",
      " 9   Cabin          295 non-null    object \n",
      " 10  title          1309 non-null   object \n",
      " 11  relatives      1309 non-null   int64  \n",
      " 12  Ticket_prefix  1309 non-null   object \n",
      " 13  Cabin_prefix   1309 non-null   object \n",
      "dtypes: float64(3), int64(4), object(7)\n",
      "memory usage: 143.3+ KB\n"
     ]
    }
   ],
   "source": [
    "df_full.info()"
   ]
  },
  {
   "cell_type": "markdown",
   "metadata": {},
   "source": [
    "## Machine learning"
   ]
  },
  {
   "cell_type": "code",
   "execution_count": 30,
   "metadata": {},
   "outputs": [],
   "source": [
    "# get dummies of relevant columns\n",
    "df_full = pd.concat([df_full, pd.get_dummies(df_full['title']),], axis = 1)\n",
    "df_full = pd.concat([df_full, pd.get_dummies(df_full['Sex']),], axis = 1)\n",
    "df_full = pd.concat([df_full, pd.get_dummies(df_full['Cabin_prefix']),], axis = 1)"
   ]
  },
  {
   "cell_type": "code",
   "execution_count": 31,
   "metadata": {},
   "outputs": [
    {
     "data": {
      "text/html": [
       "<div>\n",
       "<style scoped>\n",
       "    .dataframe tbody tr th:only-of-type {\n",
       "        vertical-align: middle;\n",
       "    }\n",
       "\n",
       "    .dataframe tbody tr th {\n",
       "        vertical-align: top;\n",
       "    }\n",
       "\n",
       "    .dataframe thead th {\n",
       "        text-align: right;\n",
       "    }\n",
       "</style>\n",
       "<table border=\"1\" class=\"dataframe\">\n",
       "  <thead>\n",
       "    <tr style=\"text-align: right;\">\n",
       "      <th></th>\n",
       "      <th>Survived</th>\n",
       "      <th>Pclass</th>\n",
       "      <th>Name</th>\n",
       "      <th>Sex</th>\n",
       "      <th>Age</th>\n",
       "      <th>SibSp</th>\n",
       "      <th>Parch</th>\n",
       "      <th>Ticket</th>\n",
       "      <th>Fare</th>\n",
       "      <th>Cabin</th>\n",
       "      <th>...</th>\n",
       "      <th>Miss</th>\n",
       "      <th>Mr</th>\n",
       "      <th>Mr_titled</th>\n",
       "      <th>Mrs</th>\n",
       "      <th>female</th>\n",
       "      <th>male</th>\n",
       "      <th>Low_deck</th>\n",
       "      <th>Mid_deck</th>\n",
       "      <th>Top_deck</th>\n",
       "      <th>Unknown</th>\n",
       "    </tr>\n",
       "  </thead>\n",
       "  <tbody>\n",
       "    <tr>\n",
       "      <th>0</th>\n",
       "      <td>0.0</td>\n",
       "      <td>3</td>\n",
       "      <td>Braund, Mr. Owen Harris</td>\n",
       "      <td>male</td>\n",
       "      <td>2.0</td>\n",
       "      <td>1</td>\n",
       "      <td>0</td>\n",
       "      <td>A/5 21171</td>\n",
       "      <td>7.2500</td>\n",
       "      <td>NaN</td>\n",
       "      <td>...</td>\n",
       "      <td>0</td>\n",
       "      <td>1</td>\n",
       "      <td>0</td>\n",
       "      <td>0</td>\n",
       "      <td>0</td>\n",
       "      <td>1</td>\n",
       "      <td>0</td>\n",
       "      <td>0</td>\n",
       "      <td>0</td>\n",
       "      <td>1</td>\n",
       "    </tr>\n",
       "    <tr>\n",
       "      <th>1</th>\n",
       "      <td>1.0</td>\n",
       "      <td>1</td>\n",
       "      <td>Cumings, Mrs. John Bradley (Florence Briggs Th...</td>\n",
       "      <td>female</td>\n",
       "      <td>5.0</td>\n",
       "      <td>1</td>\n",
       "      <td>0</td>\n",
       "      <td>PC 17599</td>\n",
       "      <td>71.2833</td>\n",
       "      <td>C85</td>\n",
       "      <td>...</td>\n",
       "      <td>0</td>\n",
       "      <td>0</td>\n",
       "      <td>0</td>\n",
       "      <td>1</td>\n",
       "      <td>1</td>\n",
       "      <td>0</td>\n",
       "      <td>0</td>\n",
       "      <td>0</td>\n",
       "      <td>1</td>\n",
       "      <td>0</td>\n",
       "    </tr>\n",
       "    <tr>\n",
       "      <th>2</th>\n",
       "      <td>1.0</td>\n",
       "      <td>3</td>\n",
       "      <td>Heikkinen, Miss. Laina</td>\n",
       "      <td>female</td>\n",
       "      <td>3.0</td>\n",
       "      <td>0</td>\n",
       "      <td>0</td>\n",
       "      <td>STON/O2. 3101282</td>\n",
       "      <td>7.9250</td>\n",
       "      <td>NaN</td>\n",
       "      <td>...</td>\n",
       "      <td>1</td>\n",
       "      <td>0</td>\n",
       "      <td>0</td>\n",
       "      <td>0</td>\n",
       "      <td>1</td>\n",
       "      <td>0</td>\n",
       "      <td>0</td>\n",
       "      <td>0</td>\n",
       "      <td>0</td>\n",
       "      <td>1</td>\n",
       "    </tr>\n",
       "    <tr>\n",
       "      <th>3</th>\n",
       "      <td>1.0</td>\n",
       "      <td>1</td>\n",
       "      <td>Futrelle, Mrs. Jacques Heath (Lily May Peel)</td>\n",
       "      <td>female</td>\n",
       "      <td>5.0</td>\n",
       "      <td>1</td>\n",
       "      <td>0</td>\n",
       "      <td>113803</td>\n",
       "      <td>53.1000</td>\n",
       "      <td>C123</td>\n",
       "      <td>...</td>\n",
       "      <td>0</td>\n",
       "      <td>0</td>\n",
       "      <td>0</td>\n",
       "      <td>1</td>\n",
       "      <td>1</td>\n",
       "      <td>0</td>\n",
       "      <td>0</td>\n",
       "      <td>0</td>\n",
       "      <td>1</td>\n",
       "      <td>0</td>\n",
       "    </tr>\n",
       "    <tr>\n",
       "      <th>4</th>\n",
       "      <td>0.0</td>\n",
       "      <td>3</td>\n",
       "      <td>Allen, Mr. William Henry</td>\n",
       "      <td>male</td>\n",
       "      <td>5.0</td>\n",
       "      <td>0</td>\n",
       "      <td>0</td>\n",
       "      <td>373450</td>\n",
       "      <td>8.0500</td>\n",
       "      <td>NaN</td>\n",
       "      <td>...</td>\n",
       "      <td>0</td>\n",
       "      <td>1</td>\n",
       "      <td>0</td>\n",
       "      <td>0</td>\n",
       "      <td>0</td>\n",
       "      <td>1</td>\n",
       "      <td>0</td>\n",
       "      <td>0</td>\n",
       "      <td>0</td>\n",
       "      <td>1</td>\n",
       "    </tr>\n",
       "  </tbody>\n",
       "</table>\n",
       "<p>5 rows × 24 columns</p>\n",
       "</div>"
      ],
      "text/plain": [
       "   Survived  Pclass                                               Name  \\\n",
       "0       0.0       3                            Braund, Mr. Owen Harris   \n",
       "1       1.0       1  Cumings, Mrs. John Bradley (Florence Briggs Th...   \n",
       "2       1.0       3                             Heikkinen, Miss. Laina   \n",
       "3       1.0       1       Futrelle, Mrs. Jacques Heath (Lily May Peel)   \n",
       "4       0.0       3                           Allen, Mr. William Henry   \n",
       "\n",
       "      Sex  Age  SibSp  Parch            Ticket     Fare Cabin  ... Miss  Mr  \\\n",
       "0    male  2.0      1      0         A/5 21171   7.2500   NaN  ...    0   1   \n",
       "1  female  5.0      1      0          PC 17599  71.2833   C85  ...    0   0   \n",
       "2  female  3.0      0      0  STON/O2. 3101282   7.9250   NaN  ...    1   0   \n",
       "3  female  5.0      1      0            113803  53.1000  C123  ...    0   0   \n",
       "4    male  5.0      0      0            373450   8.0500   NaN  ...    0   1   \n",
       "\n",
       "  Mr_titled Mrs  female  male  Low_deck  Mid_deck  Top_deck  Unknown  \n",
       "0         0   0       0     1         0         0         0        1  \n",
       "1         0   1       1     0         0         0         1        0  \n",
       "2         0   0       1     0         0         0         0        1  \n",
       "3         0   1       1     0         0         0         1        0  \n",
       "4         0   0       0     1         0         0         0        1  \n",
       "\n",
       "[5 rows x 24 columns]"
      ]
     },
     "execution_count": 31,
     "metadata": {},
     "output_type": "execute_result"
    }
   ],
   "source": [
    "df_full.head()"
   ]
  },
  {
   "cell_type": "code",
   "execution_count": 32,
   "metadata": {},
   "outputs": [],
   "source": [
    "df_full.drop([\n",
    "    'Name',\n",
    "    'Sex',\n",
    "    'SibSp',\n",
    "    'Parch',\n",
    "    'Ticket',\n",
    "    'Cabin',\n",
    "    'title',\n",
    "    'Ticket_prefix',\n",
    "    'Cabin_prefix'\n",
    "],axis=1,inplace=True)"
   ]
  },
  {
   "cell_type": "code",
   "execution_count": 33,
   "metadata": {},
   "outputs": [
    {
     "data": {
      "text/html": [
       "<div>\n",
       "<style scoped>\n",
       "    .dataframe tbody tr th:only-of-type {\n",
       "        vertical-align: middle;\n",
       "    }\n",
       "\n",
       "    .dataframe tbody tr th {\n",
       "        vertical-align: top;\n",
       "    }\n",
       "\n",
       "    .dataframe thead th {\n",
       "        text-align: right;\n",
       "    }\n",
       "</style>\n",
       "<table border=\"1\" class=\"dataframe\">\n",
       "  <thead>\n",
       "    <tr style=\"text-align: right;\">\n",
       "      <th></th>\n",
       "      <th>Survived</th>\n",
       "      <th>Pclass</th>\n",
       "      <th>Age</th>\n",
       "      <th>Fare</th>\n",
       "      <th>relatives</th>\n",
       "      <th>Miss</th>\n",
       "      <th>Mr</th>\n",
       "      <th>Mr_titled</th>\n",
       "      <th>Mrs</th>\n",
       "      <th>female</th>\n",
       "      <th>male</th>\n",
       "      <th>Low_deck</th>\n",
       "      <th>Mid_deck</th>\n",
       "      <th>Top_deck</th>\n",
       "      <th>Unknown</th>\n",
       "    </tr>\n",
       "  </thead>\n",
       "  <tbody>\n",
       "    <tr>\n",
       "      <th>0</th>\n",
       "      <td>0.0</td>\n",
       "      <td>3</td>\n",
       "      <td>2.0</td>\n",
       "      <td>7.2500</td>\n",
       "      <td>2</td>\n",
       "      <td>0</td>\n",
       "      <td>1</td>\n",
       "      <td>0</td>\n",
       "      <td>0</td>\n",
       "      <td>0</td>\n",
       "      <td>1</td>\n",
       "      <td>0</td>\n",
       "      <td>0</td>\n",
       "      <td>0</td>\n",
       "      <td>1</td>\n",
       "    </tr>\n",
       "    <tr>\n",
       "      <th>1</th>\n",
       "      <td>1.0</td>\n",
       "      <td>1</td>\n",
       "      <td>5.0</td>\n",
       "      <td>71.2833</td>\n",
       "      <td>2</td>\n",
       "      <td>0</td>\n",
       "      <td>0</td>\n",
       "      <td>0</td>\n",
       "      <td>1</td>\n",
       "      <td>1</td>\n",
       "      <td>0</td>\n",
       "      <td>0</td>\n",
       "      <td>0</td>\n",
       "      <td>1</td>\n",
       "      <td>0</td>\n",
       "    </tr>\n",
       "    <tr>\n",
       "      <th>2</th>\n",
       "      <td>1.0</td>\n",
       "      <td>3</td>\n",
       "      <td>3.0</td>\n",
       "      <td>7.9250</td>\n",
       "      <td>1</td>\n",
       "      <td>1</td>\n",
       "      <td>0</td>\n",
       "      <td>0</td>\n",
       "      <td>0</td>\n",
       "      <td>1</td>\n",
       "      <td>0</td>\n",
       "      <td>0</td>\n",
       "      <td>0</td>\n",
       "      <td>0</td>\n",
       "      <td>1</td>\n",
       "    </tr>\n",
       "    <tr>\n",
       "      <th>3</th>\n",
       "      <td>1.0</td>\n",
       "      <td>1</td>\n",
       "      <td>5.0</td>\n",
       "      <td>53.1000</td>\n",
       "      <td>2</td>\n",
       "      <td>0</td>\n",
       "      <td>0</td>\n",
       "      <td>0</td>\n",
       "      <td>1</td>\n",
       "      <td>1</td>\n",
       "      <td>0</td>\n",
       "      <td>0</td>\n",
       "      <td>0</td>\n",
       "      <td>1</td>\n",
       "      <td>0</td>\n",
       "    </tr>\n",
       "    <tr>\n",
       "      <th>4</th>\n",
       "      <td>0.0</td>\n",
       "      <td>3</td>\n",
       "      <td>5.0</td>\n",
       "      <td>8.0500</td>\n",
       "      <td>1</td>\n",
       "      <td>0</td>\n",
       "      <td>1</td>\n",
       "      <td>0</td>\n",
       "      <td>0</td>\n",
       "      <td>0</td>\n",
       "      <td>1</td>\n",
       "      <td>0</td>\n",
       "      <td>0</td>\n",
       "      <td>0</td>\n",
       "      <td>1</td>\n",
       "    </tr>\n",
       "  </tbody>\n",
       "</table>\n",
       "</div>"
      ],
      "text/plain": [
       "   Survived  Pclass  Age     Fare  relatives  Miss  Mr  Mr_titled  Mrs  \\\n",
       "0       0.0       3  2.0   7.2500          2     0   1          0    0   \n",
       "1       1.0       1  5.0  71.2833          2     0   0          0    1   \n",
       "2       1.0       3  3.0   7.9250          1     1   0          0    0   \n",
       "3       1.0       1  5.0  53.1000          2     0   0          0    1   \n",
       "4       0.0       3  5.0   8.0500          1     0   1          0    0   \n",
       "\n",
       "   female  male  Low_deck  Mid_deck  Top_deck  Unknown  \n",
       "0       0     1         0         0         0        1  \n",
       "1       1     0         0         0         1        0  \n",
       "2       1     0         0         0         0        1  \n",
       "3       1     0         0         0         1        0  \n",
       "4       0     1         0         0         0        1  "
      ]
     },
     "execution_count": 33,
     "metadata": {},
     "output_type": "execute_result"
    }
   ],
   "source": [
    "df_full.head()"
   ]
  },
  {
   "cell_type": "code",
   "execution_count": 34,
   "metadata": {},
   "outputs": [
    {
     "name": "stdout",
     "output_type": "stream",
     "text": [
      "(891, 14)\n",
      "(891,)\n",
      "(418, 14)\n",
      "(418,)\n"
     ]
    }
   ],
   "source": [
    "# Features from 1st part of the df\n",
    "X_train = df_full[0:891].drop('Survived', axis=1).values\n",
    "# Labels from 1st part of the df\n",
    "y_train = df_full[0:891]['Survived'].values\n",
    "# Features from 2nd part of the df\n",
    "X_test = df_full[891:].drop('Survived', axis=1).values\n",
    "# Labels from 2nd part of the df\n",
    "y_test = np.array(pd.read_csv('gender_submission.csv')['Survived'])\n",
    "\n",
    "print(X_train.shape)\n",
    "print(y_train.shape)\n",
    "print(X_test.shape)\n",
    "print(y_test.shape)"
   ]
  },
  {
   "cell_type": "code",
   "execution_count": 35,
   "metadata": {},
   "outputs": [
    {
     "name": "stdout",
     "output_type": "stream",
     "text": [
      "Model: \"sequential_1\"\n",
      "_________________________________________________________________\n",
      "Layer (type)                 Output Shape              Param #   \n",
      "=================================================================\n",
      "dense_1 (Dense)              (None, 9)                 135       \n",
      "_________________________________________________________________\n",
      "dense_2 (Dense)              (None, 9)                 90        \n",
      "_________________________________________________________________\n",
      "dense_3 (Dense)              (None, 5)                 50        \n",
      "_________________________________________________________________\n",
      "dense_4 (Dense)              (None, 1)                 6         \n",
      "=================================================================\n",
      "Total params: 281\n",
      "Trainable params: 281\n",
      "Non-trainable params: 0\n",
      "_________________________________________________________________\n"
     ]
    }
   ],
   "source": [
    "# Neural Net\n",
    "model = Sequential()\n",
    "model.add(Dense(units = 9, kernel_initializer = 'uniform', activation = 'relu', input_dim = X_train.shape[1]))\n",
    "model.add(Dense(units = 9, kernel_initializer = 'uniform', activation = 'relu'))\n",
    "model.add(Dense(units = 5, kernel_initializer = 'uniform', activation = 'relu'))\n",
    "model.add(Dense(units = 1, kernel_initializer = 'uniform', activation = 'sigmoid'))\n",
    "model.summary()"
   ]
  },
  {
   "cell_type": "code",
   "execution_count": 36,
   "metadata": {
    "scrolled": true
   },
   "outputs": [
    {
     "name": "stdout",
     "output_type": "stream",
     "text": [
      "WARNING:tensorflow:From C:\\ProgramData\\Anaconda3\\lib\\site-packages\\tensorflow\\python\\ops\\nn_impl.py:180: add_dispatch_support.<locals>.wrapper (from tensorflow.python.ops.array_ops) is deprecated and will be removed in a future version.\n",
      "Instructions for updating:\n",
      "Use tf.where in 2.0, which has the same broadcast rule as np.where\n"
     ]
    }
   ],
   "source": [
    "# Compiling\n",
    "model.compile(optimizer = 'adam', loss = 'binary_crossentropy', metrics = ['accuracy'])"
   ]
  },
  {
   "cell_type": "code",
   "execution_count": 37,
   "metadata": {
    "scrolled": true
   },
   "outputs": [
    {
     "name": "stdout",
     "output_type": "stream",
     "text": [
      "WARNING:tensorflow:From C:\\ProgramData\\Anaconda3\\lib\\site-packages\\keras\\backend\\tensorflow_backend.py:422: The name tf.global_variables is deprecated. Please use tf.compat.v1.global_variables instead.\n",
      "\n",
      "Train on 596 samples, validate on 295 samples\n",
      "Epoch 1/300\n",
      "596/596 [==============================] - 0s 647us/step - loss: 0.6924 - accuracy: 0.5990 - val_loss: 0.6909 - val_accuracy: 0.6339\n",
      "Epoch 2/300\n",
      "596/596 [==============================] - 0s 79us/step - loss: 0.6906 - accuracy: 0.6074 - val_loss: 0.6885 - val_accuracy: 0.6407\n",
      "Epoch 3/300\n",
      "596/596 [==============================] - 0s 105us/step - loss: 0.6889 - accuracy: 0.6057 - val_loss: 0.6853 - val_accuracy: 0.6644\n",
      "Epoch 4/300\n",
      "596/596 [==============================] - 0s 116us/step - loss: 0.6867 - accuracy: 0.6107 - val_loss: 0.6816 - val_accuracy: 0.6746\n",
      "Epoch 5/300\n",
      "596/596 [==============================] - 0s 90us/step - loss: 0.6836 - accuracy: 0.6409 - val_loss: 0.6739 - val_accuracy: 0.6983\n",
      "Epoch 6/300\n",
      "596/596 [==============================] - 0s 90us/step - loss: 0.6787 - accuracy: 0.6594 - val_loss: 0.6618 - val_accuracy: 0.7288\n",
      "Epoch 7/300\n",
      "596/596 [==============================] - 0s 79us/step - loss: 0.6724 - accuracy: 0.6628 - val_loss: 0.6516 - val_accuracy: 0.7424\n",
      "Epoch 8/300\n",
      "596/596 [==============================] - 0s 105us/step - loss: 0.6640 - accuracy: 0.6611 - val_loss: 0.6364 - val_accuracy: 0.7458\n",
      "Epoch 9/300\n",
      "596/596 [==============================] - 0s 90us/step - loss: 0.6540 - accuracy: 0.6711 - val_loss: 0.6168 - val_accuracy: 0.7458\n",
      "Epoch 10/300\n",
      "596/596 [==============================] - 0s 116us/step - loss: 0.6385 - accuracy: 0.6829 - val_loss: 0.6016 - val_accuracy: 0.7322\n",
      "Epoch 11/300\n",
      "596/596 [==============================] - 0s 90us/step - loss: 0.6202 - accuracy: 0.6862 - val_loss: 0.5692 - val_accuracy: 0.7525\n",
      "Epoch 12/300\n",
      "596/596 [==============================] - 0s 164us/step - loss: 0.5996 - accuracy: 0.6946 - val_loss: 0.5464 - val_accuracy: 0.7525\n",
      "Epoch 13/300\n",
      "596/596 [==============================] - 0s 79us/step - loss: 0.5766 - accuracy: 0.7064 - val_loss: 0.5223 - val_accuracy: 0.7593\n",
      "Epoch 14/300\n",
      "596/596 [==============================] - 0s 90us/step - loss: 0.5580 - accuracy: 0.7081 - val_loss: 0.5060 - val_accuracy: 0.7763\n",
      "Epoch 15/300\n",
      "596/596 [==============================] - 0s 105us/step - loss: 0.5351 - accuracy: 0.7349 - val_loss: 0.4737 - val_accuracy: 0.7932\n",
      "Epoch 16/300\n",
      "596/596 [==============================] - 0s 142us/step - loss: 0.5194 - accuracy: 0.7987 - val_loss: 0.4706 - val_accuracy: 0.8203\n",
      "Epoch 17/300\n",
      "596/596 [==============================] - 0s 79us/step - loss: 0.5026 - accuracy: 0.7886 - val_loss: 0.4545 - val_accuracy: 0.8102\n",
      "Epoch 18/300\n",
      "596/596 [==============================] - 0s 79us/step - loss: 0.4901 - accuracy: 0.7869 - val_loss: 0.4525 - val_accuracy: 0.8034\n",
      "Epoch 19/300\n",
      "596/596 [==============================] - 0s 90us/step - loss: 0.4799 - accuracy: 0.7819 - val_loss: 0.4434 - val_accuracy: 0.8034\n",
      "Epoch 20/300\n",
      "596/596 [==============================] - 0s 90us/step - loss: 0.4765 - accuracy: 0.7836 - val_loss: 0.4421 - val_accuracy: 0.7932\n",
      "Epoch 21/300\n",
      "596/596 [==============================] - 0s 90us/step - loss: 0.4727 - accuracy: 0.7836 - val_loss: 0.4531 - val_accuracy: 0.8000\n",
      "Epoch 22/300\n",
      "596/596 [==============================] - 0s 105us/step - loss: 0.4725 - accuracy: 0.7819 - val_loss: 0.4414 - val_accuracy: 0.7966\n",
      "Epoch 23/300\n",
      "596/596 [==============================] - 0s 142us/step - loss: 0.4675 - accuracy: 0.7936 - val_loss: 0.4274 - val_accuracy: 0.7864\n",
      "Epoch 24/300\n",
      "596/596 [==============================] - 0s 131us/step - loss: 0.4658 - accuracy: 0.7869 - val_loss: 0.4369 - val_accuracy: 0.8000\n",
      "Epoch 25/300\n",
      "596/596 [==============================] - 0s 116us/step - loss: 0.4655 - accuracy: 0.7953 - val_loss: 0.4289 - val_accuracy: 0.7898\n",
      "Epoch 26/300\n",
      "596/596 [==============================] - 0s 90us/step - loss: 0.4654 - accuracy: 0.7869 - val_loss: 0.4269 - val_accuracy: 0.7932\n",
      "Epoch 27/300\n",
      "596/596 [==============================] - 0s 142us/step - loss: 0.4626 - accuracy: 0.7852 - val_loss: 0.4295 - val_accuracy: 0.7932\n",
      "Epoch 28/300\n",
      "596/596 [==============================] - 0s 116us/step - loss: 0.4612 - accuracy: 0.7987 - val_loss: 0.4230 - val_accuracy: 0.7966\n",
      "Epoch 29/300\n",
      "596/596 [==============================] - 0s 105us/step - loss: 0.4617 - accuracy: 0.7869 - val_loss: 0.4395 - val_accuracy: 0.8034\n",
      "Epoch 30/300\n",
      "596/596 [==============================] - 0s 90us/step - loss: 0.4675 - accuracy: 0.7903 - val_loss: 0.4167 - val_accuracy: 0.8000\n",
      "Epoch 31/300\n",
      "596/596 [==============================] - 0s 79us/step - loss: 0.4659 - accuracy: 0.7936 - val_loss: 0.4176 - val_accuracy: 0.8000\n",
      "Epoch 32/300\n",
      "596/596 [==============================] - 0s 63us/step - loss: 0.4784 - accuracy: 0.7785 - val_loss: 0.4528 - val_accuracy: 0.8000\n",
      "Epoch 33/300\n",
      "596/596 [==============================] - 0s 79us/step - loss: 0.4593 - accuracy: 0.7936 - val_loss: 0.4172 - val_accuracy: 0.8068\n",
      "Epoch 34/300\n",
      "596/596 [==============================] - 0s 90us/step - loss: 0.4569 - accuracy: 0.7886 - val_loss: 0.4293 - val_accuracy: 0.8068\n",
      "Epoch 35/300\n",
      "596/596 [==============================] - 0s 105us/step - loss: 0.4651 - accuracy: 0.7852 - val_loss: 0.4430 - val_accuracy: 0.8000\n",
      "Epoch 36/300\n",
      "596/596 [==============================] - 0s 90us/step - loss: 0.4646 - accuracy: 0.8003 - val_loss: 0.4176 - val_accuracy: 0.8068\n",
      "Epoch 37/300\n",
      "596/596 [==============================] - 0s 105us/step - loss: 0.4575 - accuracy: 0.7987 - val_loss: 0.4167 - val_accuracy: 0.8102\n",
      "Epoch 38/300\n",
      "596/596 [==============================] - 0s 90us/step - loss: 0.4581 - accuracy: 0.7903 - val_loss: 0.4322 - val_accuracy: 0.8102\n",
      "Epoch 39/300\n",
      "596/596 [==============================] - 0s 79us/step - loss: 0.4579 - accuracy: 0.7919 - val_loss: 0.4123 - val_accuracy: 0.8136\n",
      "Epoch 40/300\n",
      "596/596 [==============================] - 0s 105us/step - loss: 0.4549 - accuracy: 0.7919 - val_loss: 0.4283 - val_accuracy: 0.8068\n",
      "Epoch 41/300\n",
      "596/596 [==============================] - 0s 90us/step - loss: 0.4564 - accuracy: 0.8020 - val_loss: 0.4140 - val_accuracy: 0.8203\n",
      "Epoch 42/300\n",
      "596/596 [==============================] - 0s 89us/step - loss: 0.4536 - accuracy: 0.7970 - val_loss: 0.4114 - val_accuracy: 0.8136\n",
      "Epoch 43/300\n",
      "596/596 [==============================] - 0s 90us/step - loss: 0.4561 - accuracy: 0.7919 - val_loss: 0.4227 - val_accuracy: 0.8169\n",
      "Epoch 44/300\n",
      "596/596 [==============================] - 0s 79us/step - loss: 0.4552 - accuracy: 0.7987 - val_loss: 0.4166 - val_accuracy: 0.8203\n",
      "Epoch 45/300\n",
      "596/596 [==============================] - 0s 116us/step - loss: 0.4525 - accuracy: 0.8003 - val_loss: 0.4120 - val_accuracy: 0.8203\n",
      "Epoch 46/300\n",
      "596/596 [==============================] - 0s 79us/step - loss: 0.4538 - accuracy: 0.7953 - val_loss: 0.4095 - val_accuracy: 0.8237\n",
      "Epoch 47/300\n",
      "596/596 [==============================] - 0s 79us/step - loss: 0.4517 - accuracy: 0.8003 - val_loss: 0.4171 - val_accuracy: 0.8203\n",
      "Epoch 48/300\n",
      "596/596 [==============================] - 0s 116us/step - loss: 0.4521 - accuracy: 0.7987 - val_loss: 0.4058 - val_accuracy: 0.8068\n",
      "Epoch 49/300\n",
      "596/596 [==============================] - 0s 63us/step - loss: 0.4521 - accuracy: 0.7936 - val_loss: 0.4295 - val_accuracy: 0.8169\n",
      "Epoch 50/300\n",
      "596/596 [==============================] - 0s 79us/step - loss: 0.4528 - accuracy: 0.8054 - val_loss: 0.4020 - val_accuracy: 0.8068\n",
      "Epoch 51/300\n",
      "596/596 [==============================] - 0s 79us/step - loss: 0.4506 - accuracy: 0.7987 - val_loss: 0.4129 - val_accuracy: 0.8237\n",
      "Epoch 52/300\n",
      "596/596 [==============================] - 0s 90us/step - loss: 0.4513 - accuracy: 0.8070 - val_loss: 0.4058 - val_accuracy: 0.8237\n",
      "Epoch 53/300\n",
      "596/596 [==============================] - 0s 79us/step - loss: 0.4506 - accuracy: 0.8003 - val_loss: 0.4096 - val_accuracy: 0.8237\n",
      "Epoch 54/300\n",
      "596/596 [==============================] - 0s 63us/step - loss: 0.4500 - accuracy: 0.8003 - val_loss: 0.4053 - val_accuracy: 0.8203\n",
      "Epoch 55/300\n",
      "596/596 [==============================] - 0s 79us/step - loss: 0.4518 - accuracy: 0.8087 - val_loss: 0.4022 - val_accuracy: 0.8203\n"
     ]
    },
    {
     "name": "stdout",
     "output_type": "stream",
     "text": [
      "Epoch 56/300\n",
      "596/596 [==============================] - 0s 79us/step - loss: 0.4476 - accuracy: 0.8003 - val_loss: 0.4219 - val_accuracy: 0.8169\n",
      "Epoch 57/300\n",
      "596/596 [==============================] - 0s 90us/step - loss: 0.4522 - accuracy: 0.8037 - val_loss: 0.3986 - val_accuracy: 0.8102\n",
      "Epoch 58/300\n",
      "596/596 [==============================] - 0s 90us/step - loss: 0.4486 - accuracy: 0.8003 - val_loss: 0.4280 - val_accuracy: 0.8169\n",
      "Epoch 59/300\n",
      "596/596 [==============================] - 0s 105us/step - loss: 0.4499 - accuracy: 0.8104 - val_loss: 0.3971 - val_accuracy: 0.8102\n",
      "Epoch 60/300\n",
      "596/596 [==============================] - 0s 79us/step - loss: 0.4541 - accuracy: 0.8020 - val_loss: 0.4089 - val_accuracy: 0.8203\n",
      "Epoch 61/300\n",
      "596/596 [==============================] - 0s 116us/step - loss: 0.4469 - accuracy: 0.8003 - val_loss: 0.4024 - val_accuracy: 0.8203\n",
      "Epoch 62/300\n",
      "596/596 [==============================] - 0s 90us/step - loss: 0.4480 - accuracy: 0.8054 - val_loss: 0.3989 - val_accuracy: 0.8203\n",
      "Epoch 63/300\n",
      "596/596 [==============================] - 0s 79us/step - loss: 0.4478 - accuracy: 0.7987 - val_loss: 0.4142 - val_accuracy: 0.8237\n",
      "Epoch 64/300\n",
      "596/596 [==============================] - 0s 63us/step - loss: 0.4488 - accuracy: 0.8104 - val_loss: 0.3955 - val_accuracy: 0.8102\n",
      "Epoch 65/300\n",
      "596/596 [==============================] - 0s 90us/step - loss: 0.4534 - accuracy: 0.8003 - val_loss: 0.4212 - val_accuracy: 0.8203\n",
      "Epoch 66/300\n",
      "596/596 [==============================] - 0s 79us/step - loss: 0.4481 - accuracy: 0.8003 - val_loss: 0.3998 - val_accuracy: 0.8203\n",
      "Epoch 67/300\n",
      "596/596 [==============================] - 0s 90us/step - loss: 0.4459 - accuracy: 0.8104 - val_loss: 0.4000 - val_accuracy: 0.8203\n",
      "Epoch 68/300\n",
      "596/596 [==============================] - 0s 105us/step - loss: 0.4466 - accuracy: 0.8104 - val_loss: 0.3948 - val_accuracy: 0.8203\n",
      "Epoch 69/300\n",
      "596/596 [==============================] - 0s 105us/step - loss: 0.4470 - accuracy: 0.8037 - val_loss: 0.3974 - val_accuracy: 0.8203\n",
      "Epoch 70/300\n",
      "596/596 [==============================] - 0s 79us/step - loss: 0.4461 - accuracy: 0.7987 - val_loss: 0.4083 - val_accuracy: 0.8203\n",
      "Epoch 71/300\n",
      "596/596 [==============================] - 0s 116us/step - loss: 0.4453 - accuracy: 0.8171 - val_loss: 0.3927 - val_accuracy: 0.8203\n",
      "Epoch 72/300\n",
      "596/596 [==============================] - 0s 90us/step - loss: 0.4515 - accuracy: 0.7936 - val_loss: 0.4187 - val_accuracy: 0.8271\n",
      "Epoch 73/300\n",
      "596/596 [==============================] - 0s 79us/step - loss: 0.4493 - accuracy: 0.8070 - val_loss: 0.3932 - val_accuracy: 0.8102\n",
      "Epoch 74/300\n",
      "596/596 [==============================] - 0s 63us/step - loss: 0.4496 - accuracy: 0.8003 - val_loss: 0.4101 - val_accuracy: 0.8203\n",
      "Epoch 75/300\n",
      "596/596 [==============================] - 0s 79us/step - loss: 0.4474 - accuracy: 0.8003 - val_loss: 0.3977 - val_accuracy: 0.8271\n",
      "Epoch 76/300\n",
      "596/596 [==============================] - 0s 63us/step - loss: 0.4441 - accuracy: 0.8138 - val_loss: 0.3968 - val_accuracy: 0.8271\n",
      "Epoch 77/300\n",
      "596/596 [==============================] - 0s 79us/step - loss: 0.4462 - accuracy: 0.8037 - val_loss: 0.4091 - val_accuracy: 0.8237\n",
      "Epoch 78/300\n",
      "596/596 [==============================] - 0s 63us/step - loss: 0.4449 - accuracy: 0.8070 - val_loss: 0.3935 - val_accuracy: 0.8237\n",
      "Epoch 79/300\n",
      "596/596 [==============================] - 0s 79us/step - loss: 0.4456 - accuracy: 0.8037 - val_loss: 0.4102 - val_accuracy: 0.8237\n",
      "Epoch 80/300\n",
      "596/596 [==============================] - 0s 63us/step - loss: 0.4428 - accuracy: 0.8070 - val_loss: 0.3909 - val_accuracy: 0.8237\n",
      "Epoch 81/300\n",
      "596/596 [==============================] - 0s 90us/step - loss: 0.4453 - accuracy: 0.7970 - val_loss: 0.4101 - val_accuracy: 0.8237\n",
      "Epoch 82/300\n",
      "596/596 [==============================] - 0s 105us/step - loss: 0.4474 - accuracy: 0.8138 - val_loss: 0.3903 - val_accuracy: 0.8237\n",
      "Epoch 83/300\n",
      "596/596 [==============================] - 0s 79us/step - loss: 0.4498 - accuracy: 0.8104 - val_loss: 0.3930 - val_accuracy: 0.8203\n",
      "Epoch 84/300\n",
      "596/596 [==============================] - 0s 63us/step - loss: 0.4528 - accuracy: 0.7936 - val_loss: 0.4190 - val_accuracy: 0.8237\n",
      "Epoch 85/300\n",
      "596/596 [==============================] - 0s 79us/step - loss: 0.4494 - accuracy: 0.8121 - val_loss: 0.3894 - val_accuracy: 0.8271\n",
      "Epoch 86/300\n",
      "596/596 [==============================] - 0s 79us/step - loss: 0.4451 - accuracy: 0.8104 - val_loss: 0.3910 - val_accuracy: 0.8271\n",
      "Epoch 87/300\n",
      "596/596 [==============================] - 0s 90us/step - loss: 0.4437 - accuracy: 0.8087 - val_loss: 0.3911 - val_accuracy: 0.8237\n",
      "Epoch 88/300\n",
      "596/596 [==============================] - 0s 79us/step - loss: 0.4445 - accuracy: 0.8037 - val_loss: 0.3888 - val_accuracy: 0.8305\n",
      "Epoch 89/300\n",
      "596/596 [==============================] - 0s 79us/step - loss: 0.4419 - accuracy: 0.8020 - val_loss: 0.4020 - val_accuracy: 0.8237\n",
      "Epoch 90/300\n",
      "596/596 [==============================] - 0s 63us/step - loss: 0.4470 - accuracy: 0.8054 - val_loss: 0.3927 - val_accuracy: 0.8271\n",
      "Epoch 91/300\n",
      "596/596 [==============================] - 0s 79us/step - loss: 0.4446 - accuracy: 0.8020 - val_loss: 0.4029 - val_accuracy: 0.8237\n",
      "Epoch 92/300\n",
      "596/596 [==============================] - 0s 90us/step - loss: 0.4425 - accuracy: 0.8121 - val_loss: 0.3902 - val_accuracy: 0.8271\n",
      "Epoch 93/300\n",
      "596/596 [==============================] - 0s 79us/step - loss: 0.4421 - accuracy: 0.8054 - val_loss: 0.3965 - val_accuracy: 0.8271\n",
      "Epoch 94/300\n",
      "596/596 [==============================] - 0s 90us/step - loss: 0.4441 - accuracy: 0.8070 - val_loss: 0.4010 - val_accuracy: 0.8237\n",
      "Epoch 95/300\n",
      "596/596 [==============================] - 0s 79us/step - loss: 0.4476 - accuracy: 0.8003 - val_loss: 0.3890 - val_accuracy: 0.8237\n",
      "Epoch 96/300\n",
      "596/596 [==============================] - 0s 90us/step - loss: 0.4429 - accuracy: 0.8087 - val_loss: 0.3949 - val_accuracy: 0.8237\n",
      "Epoch 97/300\n",
      "596/596 [==============================] - 0s 79us/step - loss: 0.4412 - accuracy: 0.8087 - val_loss: 0.3934 - val_accuracy: 0.8271\n",
      "Epoch 98/300\n",
      "596/596 [==============================] - 0s 90us/step - loss: 0.4426 - accuracy: 0.8121 - val_loss: 0.3922 - val_accuracy: 0.8271\n",
      "Epoch 99/300\n",
      "596/596 [==============================] - 0s 79us/step - loss: 0.4436 - accuracy: 0.8020 - val_loss: 0.3998 - val_accuracy: 0.8203\n",
      "Epoch 100/300\n",
      "596/596 [==============================] - 0s 63us/step - loss: 0.4436 - accuracy: 0.8070 - val_loss: 0.3988 - val_accuracy: 0.8203\n",
      "Epoch 101/300\n",
      "596/596 [==============================] - 0s 79us/step - loss: 0.4412 - accuracy: 0.8171 - val_loss: 0.3915 - val_accuracy: 0.8271\n",
      "Epoch 102/300\n",
      "596/596 [==============================] - 0s 90us/step - loss: 0.4410 - accuracy: 0.8054 - val_loss: 0.3914 - val_accuracy: 0.8203\n",
      "Epoch 103/300\n",
      "596/596 [==============================] - 0s 79us/step - loss: 0.4413 - accuracy: 0.8070 - val_loss: 0.3921 - val_accuracy: 0.8271\n",
      "Epoch 104/300\n",
      "596/596 [==============================] - 0s 79us/step - loss: 0.4408 - accuracy: 0.8087 - val_loss: 0.3947 - val_accuracy: 0.8203\n",
      "Epoch 105/300\n",
      "596/596 [==============================] - 0s 79us/step - loss: 0.4434 - accuracy: 0.8087 - val_loss: 0.3847 - val_accuracy: 0.8271\n",
      "Epoch 106/300\n",
      "596/596 [==============================] - 0s 105us/step - loss: 0.4416 - accuracy: 0.8138 - val_loss: 0.3887 - val_accuracy: 0.8339\n",
      "Epoch 107/300\n",
      "596/596 [==============================] - 0s 79us/step - loss: 0.4407 - accuracy: 0.8087 - val_loss: 0.3951 - val_accuracy: 0.8203\n",
      "Epoch 108/300\n",
      "596/596 [==============================] - 0s 90us/step - loss: 0.4413 - accuracy: 0.8121 - val_loss: 0.3901 - val_accuracy: 0.8271\n",
      "Epoch 109/300\n",
      "596/596 [==============================] - 0s 79us/step - loss: 0.4404 - accuracy: 0.8154 - val_loss: 0.4038 - val_accuracy: 0.8136\n",
      "Epoch 110/300\n",
      "596/596 [==============================] - 0s 90us/step - loss: 0.4427 - accuracy: 0.8070 - val_loss: 0.3959 - val_accuracy: 0.8169\n",
      "Epoch 111/300\n",
      "596/596 [==============================] - 0s 79us/step - loss: 0.4421 - accuracy: 0.8104 - val_loss: 0.3954 - val_accuracy: 0.8169\n",
      "Epoch 112/300\n"
     ]
    },
    {
     "name": "stdout",
     "output_type": "stream",
     "text": [
      "596/596 [==============================] - 0s 63us/step - loss: 0.4416 - accuracy: 0.8104 - val_loss: 0.3857 - val_accuracy: 0.8271\n",
      "Epoch 113/300\n",
      "596/596 [==============================] - 0s 79us/step - loss: 0.4427 - accuracy: 0.8121 - val_loss: 0.3869 - val_accuracy: 0.8271\n",
      "Epoch 114/300\n",
      "596/596 [==============================] - 0s 90us/step - loss: 0.4475 - accuracy: 0.8054 - val_loss: 0.4036 - val_accuracy: 0.8203\n",
      "Epoch 115/300\n",
      "596/596 [==============================] - 0s 79us/step - loss: 0.4394 - accuracy: 0.8121 - val_loss: 0.3865 - val_accuracy: 0.8305\n",
      "Epoch 116/300\n",
      "596/596 [==============================] - 0s 90us/step - loss: 0.4416 - accuracy: 0.8121 - val_loss: 0.3878 - val_accuracy: 0.8305\n",
      "Epoch 117/300\n",
      "596/596 [==============================] - 0s 105us/step - loss: 0.4410 - accuracy: 0.8037 - val_loss: 0.3990 - val_accuracy: 0.8169\n",
      "Epoch 118/300\n",
      "596/596 [==============================] - 0s 90us/step - loss: 0.4422 - accuracy: 0.8070 - val_loss: 0.3928 - val_accuracy: 0.8237\n",
      "Epoch 119/300\n",
      "596/596 [==============================] - 0s 90us/step - loss: 0.4421 - accuracy: 0.8138 - val_loss: 0.3880 - val_accuracy: 0.8339\n",
      "Epoch 120/300\n",
      "596/596 [==============================] - 0s 131us/step - loss: 0.4399 - accuracy: 0.8104 - val_loss: 0.4066 - val_accuracy: 0.8136\n",
      "Epoch 121/300\n",
      "596/596 [==============================] - 0s 90us/step - loss: 0.4406 - accuracy: 0.8104 - val_loss: 0.3860 - val_accuracy: 0.8339\n",
      "Epoch 122/300\n",
      "596/596 [==============================] - 0s 90us/step - loss: 0.4407 - accuracy: 0.8070 - val_loss: 0.4071 - val_accuracy: 0.8169\n",
      "Epoch 123/300\n",
      "596/596 [==============================] - 0s 105us/step - loss: 0.4443 - accuracy: 0.8070 - val_loss: 0.3840 - val_accuracy: 0.8373\n",
      "Epoch 124/300\n",
      "596/596 [==============================] - 0s 79us/step - loss: 0.4432 - accuracy: 0.8138 - val_loss: 0.3833 - val_accuracy: 0.8373\n",
      "Epoch 125/300\n",
      "596/596 [==============================] - 0s 79us/step - loss: 0.4402 - accuracy: 0.8138 - val_loss: 0.3951 - val_accuracy: 0.8169\n",
      "Epoch 126/300\n",
      "596/596 [==============================] - 0s 90us/step - loss: 0.4468 - accuracy: 0.7970 - val_loss: 0.3860 - val_accuracy: 0.8339\n",
      "Epoch 127/300\n",
      "596/596 [==============================] - 0s 79us/step - loss: 0.4464 - accuracy: 0.8104 - val_loss: 0.3804 - val_accuracy: 0.8407\n",
      "Epoch 128/300\n",
      "596/596 [==============================] - 0s 52us/step - loss: 0.4377 - accuracy: 0.8154 - val_loss: 0.3972 - val_accuracy: 0.8136\n",
      "Epoch 129/300\n",
      "596/596 [==============================] - 0s 63us/step - loss: 0.4410 - accuracy: 0.8154 - val_loss: 0.3822 - val_accuracy: 0.8373\n",
      "Epoch 130/300\n",
      "596/596 [==============================] - 0s 79us/step - loss: 0.4454 - accuracy: 0.8020 - val_loss: 0.3978 - val_accuracy: 0.8136\n",
      "Epoch 131/300\n",
      "596/596 [==============================] - 0s 90us/step - loss: 0.4456 - accuracy: 0.8020 - val_loss: 0.4078 - val_accuracy: 0.8136\n",
      "Epoch 132/300\n",
      "596/596 [==============================] - 0s 79us/step - loss: 0.4440 - accuracy: 0.8154 - val_loss: 0.3811 - val_accuracy: 0.8373\n",
      "Epoch 133/300\n",
      "596/596 [==============================] - 0s 90us/step - loss: 0.4400 - accuracy: 0.8037 - val_loss: 0.4021 - val_accuracy: 0.8169\n",
      "Epoch 134/300\n",
      "596/596 [==============================] - 0s 79us/step - loss: 0.4388 - accuracy: 0.8238 - val_loss: 0.3809 - val_accuracy: 0.8407\n",
      "Epoch 135/300\n",
      "596/596 [==============================] - 0s 63us/step - loss: 0.4413 - accuracy: 0.8104 - val_loss: 0.3919 - val_accuracy: 0.8339\n",
      "Epoch 136/300\n",
      "596/596 [==============================] - 0s 79us/step - loss: 0.4383 - accuracy: 0.8221 - val_loss: 0.3812 - val_accuracy: 0.8407\n",
      "Epoch 137/300\n",
      "596/596 [==============================] - 0s 90us/step - loss: 0.4402 - accuracy: 0.8104 - val_loss: 0.3899 - val_accuracy: 0.8373\n",
      "Epoch 138/300\n",
      "596/596 [==============================] - 0s 79us/step - loss: 0.4426 - accuracy: 0.8037 - val_loss: 0.4245 - val_accuracy: 0.8169\n",
      "Epoch 139/300\n",
      "596/596 [==============================] - 0s 90us/step - loss: 0.4447 - accuracy: 0.8138 - val_loss: 0.3810 - val_accuracy: 0.8407\n",
      "Epoch 140/300\n",
      "596/596 [==============================] - 0s 105us/step - loss: 0.4401 - accuracy: 0.8138 - val_loss: 0.3914 - val_accuracy: 0.8305\n",
      "Epoch 141/300\n",
      "596/596 [==============================] - 0s 90us/step - loss: 0.4384 - accuracy: 0.8171 - val_loss: 0.3875 - val_accuracy: 0.8373\n",
      "Epoch 142/300\n",
      "596/596 [==============================] - 0s 90us/step - loss: 0.4397 - accuracy: 0.8171 - val_loss: 0.3926 - val_accuracy: 0.8305\n",
      "Epoch 143/300\n",
      "596/596 [==============================] - 0s 79us/step - loss: 0.4386 - accuracy: 0.8121 - val_loss: 0.3864 - val_accuracy: 0.8373\n",
      "Epoch 144/300\n",
      "596/596 [==============================] - 0s 63us/step - loss: 0.4377 - accuracy: 0.8221 - val_loss: 0.3937 - val_accuracy: 0.8271\n",
      "Epoch 145/300\n",
      "596/596 [==============================] - 0s 79us/step - loss: 0.4401 - accuracy: 0.8154 - val_loss: 0.3972 - val_accuracy: 0.8203\n",
      "Epoch 146/300\n",
      "596/596 [==============================] - 0s 63us/step - loss: 0.4374 - accuracy: 0.8154 - val_loss: 0.3798 - val_accuracy: 0.8407\n",
      "Epoch 147/300\n",
      "596/596 [==============================] - 0s 90us/step - loss: 0.4418 - accuracy: 0.8104 - val_loss: 0.3863 - val_accuracy: 0.8373\n",
      "Epoch 148/300\n",
      "596/596 [==============================] - 0s 79us/step - loss: 0.4394 - accuracy: 0.8238 - val_loss: 0.3906 - val_accuracy: 0.8373\n",
      "Epoch 149/300\n",
      "596/596 [==============================] - 0s 63us/step - loss: 0.4393 - accuracy: 0.8188 - val_loss: 0.3899 - val_accuracy: 0.8339\n",
      "Epoch 150/300\n",
      "596/596 [==============================] - 0s 105us/step - loss: 0.4429 - accuracy: 0.8070 - val_loss: 0.4127 - val_accuracy: 0.8136\n",
      "Epoch 151/300\n",
      "596/596 [==============================] - 0s 90us/step - loss: 0.4462 - accuracy: 0.8054 - val_loss: 0.3862 - val_accuracy: 0.8373\n",
      "Epoch 152/300\n",
      "596/596 [==============================] - 0s 79us/step - loss: 0.4426 - accuracy: 0.8205 - val_loss: 0.3791 - val_accuracy: 0.8407\n",
      "Epoch 153/300\n",
      "596/596 [==============================] - 0s 79us/step - loss: 0.4464 - accuracy: 0.8020 - val_loss: 0.4021 - val_accuracy: 0.8169\n",
      "Epoch 154/300\n",
      "596/596 [==============================] - 0s 116us/step - loss: 0.4380 - accuracy: 0.8087 - val_loss: 0.3814 - val_accuracy: 0.8373\n",
      "Epoch 155/300\n",
      "596/596 [==============================] - 0s 105us/step - loss: 0.4357 - accuracy: 0.8171 - val_loss: 0.4036 - val_accuracy: 0.8271\n",
      "Epoch 156/300\n",
      "596/596 [==============================] - 0s 90us/step - loss: 0.4395 - accuracy: 0.8238 - val_loss: 0.3886 - val_accuracy: 0.8407\n",
      "Epoch 157/300\n",
      "596/596 [==============================] - 0s 79us/step - loss: 0.4384 - accuracy: 0.8188 - val_loss: 0.3939 - val_accuracy: 0.8271\n",
      "Epoch 158/300\n",
      "596/596 [==============================] - 0s 79us/step - loss: 0.4379 - accuracy: 0.8205 - val_loss: 0.3813 - val_accuracy: 0.8339\n",
      "Epoch 159/300\n",
      "596/596 [==============================] - 0s 63us/step - loss: 0.4375 - accuracy: 0.8238 - val_loss: 0.3910 - val_accuracy: 0.8339\n",
      "Epoch 160/300\n",
      "596/596 [==============================] - 0s 79us/step - loss: 0.4377 - accuracy: 0.8121 - val_loss: 0.3832 - val_accuracy: 0.8407\n",
      "Epoch 161/300\n",
      "596/596 [==============================] - 0s 90us/step - loss: 0.4385 - accuracy: 0.8205 - val_loss: 0.3816 - val_accuracy: 0.8407\n",
      "Epoch 162/300\n",
      "596/596 [==============================] - 0s 79us/step - loss: 0.4390 - accuracy: 0.8171 - val_loss: 0.3881 - val_accuracy: 0.8339\n",
      "Epoch 163/300\n",
      "596/596 [==============================] - 0s 116us/step - loss: 0.4408 - accuracy: 0.8121 - val_loss: 0.3975 - val_accuracy: 0.8305\n",
      "Epoch 164/300\n",
      "596/596 [==============================] - ETA: 0s - loss: 0.4132 - accuracy: 0.81 - 0s 105us/step - loss: 0.4415 - accuracy: 0.8070 - val_loss: 0.3996 - val_accuracy: 0.8271\n",
      "Epoch 165/300\n",
      "596/596 [==============================] - 0s 79us/step - loss: 0.4365 - accuracy: 0.8255 - val_loss: 0.3829 - val_accuracy: 0.8373\n",
      "Epoch 166/300\n",
      "596/596 [==============================] - 0s 63us/step - loss: 0.4375 - accuracy: 0.8188 - val_loss: 0.3950 - val_accuracy: 0.8271\n",
      "Epoch 167/300\n",
      "596/596 [==============================] - 0s 79us/step - loss: 0.4363 - accuracy: 0.8221 - val_loss: 0.3809 - val_accuracy: 0.8373\n"
     ]
    },
    {
     "name": "stdout",
     "output_type": "stream",
     "text": [
      "Epoch 168/300\n",
      "596/596 [==============================] - 0s 90us/step - loss: 0.4380 - accuracy: 0.8221 - val_loss: 0.3833 - val_accuracy: 0.8373\n",
      "Epoch 169/300\n",
      "596/596 [==============================] - 0s 79us/step - loss: 0.4374 - accuracy: 0.8255 - val_loss: 0.3843 - val_accuracy: 0.8373\n",
      "Epoch 170/300\n",
      "596/596 [==============================] - 0s 90us/step - loss: 0.4376 - accuracy: 0.8289 - val_loss: 0.3819 - val_accuracy: 0.8373\n",
      "Epoch 171/300\n",
      "596/596 [==============================] - 0s 79us/step - loss: 0.4413 - accuracy: 0.8020 - val_loss: 0.4146 - val_accuracy: 0.8169\n",
      "Epoch 172/300\n",
      "596/596 [==============================] - 0s 90us/step - loss: 0.4379 - accuracy: 0.8255 - val_loss: 0.3784 - val_accuracy: 0.8373\n",
      "Epoch 173/300\n",
      "596/596 [==============================] - 0s 63us/step - loss: 0.4379 - accuracy: 0.8154 - val_loss: 0.3876 - val_accuracy: 0.8373\n",
      "Epoch 174/300\n",
      "596/596 [==============================] - 0s 79us/step - loss: 0.4368 - accuracy: 0.8188 - val_loss: 0.3815 - val_accuracy: 0.8373\n",
      "Epoch 175/300\n",
      "596/596 [==============================] - 0s 90us/step - loss: 0.4360 - accuracy: 0.8205 - val_loss: 0.3926 - val_accuracy: 0.8339\n",
      "Epoch 176/300\n",
      "596/596 [==============================] - 0s 79us/step - loss: 0.4366 - accuracy: 0.8272 - val_loss: 0.3850 - val_accuracy: 0.8339\n",
      "Epoch 177/300\n",
      "596/596 [==============================] - 0s 90us/step - loss: 0.4364 - accuracy: 0.8205 - val_loss: 0.3803 - val_accuracy: 0.8373\n",
      "Epoch 178/300\n",
      "596/596 [==============================] - 0s 105us/step - loss: 0.4380 - accuracy: 0.8238 - val_loss: 0.3877 - val_accuracy: 0.8339\n",
      "Epoch 179/300\n",
      "596/596 [==============================] - 0s 90us/step - loss: 0.4365 - accuracy: 0.8138 - val_loss: 0.3910 - val_accuracy: 0.8339\n",
      "Epoch 180/300\n",
      "596/596 [==============================] - 0s 90us/step - loss: 0.4403 - accuracy: 0.8205 - val_loss: 0.3771 - val_accuracy: 0.8407\n",
      "Epoch 181/300\n",
      "596/596 [==============================] - 0s 90us/step - loss: 0.4419 - accuracy: 0.8171 - val_loss: 0.3792 - val_accuracy: 0.8373\n",
      "Epoch 182/300\n",
      "596/596 [==============================] - 0s 105us/step - loss: 0.4379 - accuracy: 0.8221 - val_loss: 0.3826 - val_accuracy: 0.8373\n",
      "Epoch 183/300\n",
      "596/596 [==============================] - 0s 79us/step - loss: 0.4355 - accuracy: 0.8272 - val_loss: 0.3829 - val_accuracy: 0.8339\n",
      "Epoch 184/300\n",
      "596/596 [==============================] - 0s 90us/step - loss: 0.4359 - accuracy: 0.8238 - val_loss: 0.3827 - val_accuracy: 0.8339\n",
      "Epoch 185/300\n",
      "596/596 [==============================] - 0s 79us/step - loss: 0.4352 - accuracy: 0.8272 - val_loss: 0.3796 - val_accuracy: 0.8339\n",
      "Epoch 186/300\n",
      "596/596 [==============================] - 0s 90us/step - loss: 0.4377 - accuracy: 0.8154 - val_loss: 0.3984 - val_accuracy: 0.8305\n",
      "Epoch 187/300\n",
      "596/596 [==============================] - 0s 79us/step - loss: 0.4401 - accuracy: 0.8121 - val_loss: 0.4081 - val_accuracy: 0.8271\n",
      "Epoch 188/300\n",
      "596/596 [==============================] - 0s 90us/step - loss: 0.4376 - accuracy: 0.8238 - val_loss: 0.3800 - val_accuracy: 0.8339\n",
      "Epoch 189/300\n",
      "596/596 [==============================] - 0s 105us/step - loss: 0.4344 - accuracy: 0.8188 - val_loss: 0.3986 - val_accuracy: 0.8271\n",
      "Epoch 190/300\n",
      "596/596 [==============================] - 0s 90us/step - loss: 0.4386 - accuracy: 0.8238 - val_loss: 0.3792 - val_accuracy: 0.8339\n",
      "Epoch 191/300\n",
      "596/596 [==============================] - 0s 79us/step - loss: 0.4348 - accuracy: 0.8255 - val_loss: 0.3829 - val_accuracy: 0.8407\n",
      "Epoch 192/300\n",
      "596/596 [==============================] - 0s 90us/step - loss: 0.4344 - accuracy: 0.8255 - val_loss: 0.3861 - val_accuracy: 0.8339\n",
      "Epoch 193/300\n",
      "596/596 [==============================] - 0s 79us/step - loss: 0.4344 - accuracy: 0.8272 - val_loss: 0.3787 - val_accuracy: 0.8339\n",
      "Epoch 194/300\n",
      "596/596 [==============================] - 0s 63us/step - loss: 0.4344 - accuracy: 0.8238 - val_loss: 0.3924 - val_accuracy: 0.8305\n",
      "Epoch 195/300\n",
      "596/596 [==============================] - 0s 90us/step - loss: 0.4350 - accuracy: 0.8272 - val_loss: 0.3854 - val_accuracy: 0.8339\n",
      "Epoch 196/300\n",
      "596/596 [==============================] - 0s 79us/step - loss: 0.4344 - accuracy: 0.8272 - val_loss: 0.3822 - val_accuracy: 0.8373\n",
      "Epoch 197/300\n",
      "596/596 [==============================] - 0s 90us/step - loss: 0.4340 - accuracy: 0.8272 - val_loss: 0.3862 - val_accuracy: 0.8305\n",
      "Epoch 198/300\n",
      "596/596 [==============================] - 0s 79us/step - loss: 0.4352 - accuracy: 0.8154 - val_loss: 0.3947 - val_accuracy: 0.8305\n",
      "Epoch 199/300\n",
      "596/596 [==============================] - 0s 90us/step - loss: 0.4352 - accuracy: 0.8272 - val_loss: 0.3909 - val_accuracy: 0.8271\n",
      "Epoch 200/300\n",
      "596/596 [==============================] - 0s 79us/step - loss: 0.4370 - accuracy: 0.8221 - val_loss: 0.3963 - val_accuracy: 0.8305\n",
      "Epoch 201/300\n",
      "596/596 [==============================] - 0s 90us/step - loss: 0.4393 - accuracy: 0.8154 - val_loss: 0.3765 - val_accuracy: 0.8305\n",
      "Epoch 202/300\n",
      "596/596 [==============================] - 0s 63us/step - loss: 0.4392 - accuracy: 0.8238 - val_loss: 0.3797 - val_accuracy: 0.8339\n",
      "Epoch 203/300\n",
      "596/596 [==============================] - 0s 79us/step - loss: 0.4328 - accuracy: 0.8289 - val_loss: 0.3986 - val_accuracy: 0.8271\n",
      "Epoch 204/300\n",
      "596/596 [==============================] - 0s 90us/step - loss: 0.4385 - accuracy: 0.8272 - val_loss: 0.3987 - val_accuracy: 0.8305\n",
      "Epoch 205/300\n",
      "596/596 [==============================] - 0s 79us/step - loss: 0.4337 - accuracy: 0.8272 - val_loss: 0.3824 - val_accuracy: 0.8339\n",
      "Epoch 206/300\n",
      "596/596 [==============================] - 0s 90us/step - loss: 0.4373 - accuracy: 0.8289 - val_loss: 0.3781 - val_accuracy: 0.8339\n",
      "Epoch 207/300\n",
      "596/596 [==============================] - 0s 105us/step - loss: 0.4383 - accuracy: 0.8221 - val_loss: 0.3921 - val_accuracy: 0.8305\n",
      "Epoch 208/300\n",
      "596/596 [==============================] - 0s 90us/step - loss: 0.4341 - accuracy: 0.8205 - val_loss: 0.3767 - val_accuracy: 0.8339\n",
      "Epoch 209/300\n",
      "596/596 [==============================] - 0s 90us/step - loss: 0.4325 - accuracy: 0.8305 - val_loss: 0.3876 - val_accuracy: 0.8305\n",
      "Epoch 210/300\n",
      "596/596 [==============================] - 0s 105us/step - loss: 0.4335 - accuracy: 0.8289 - val_loss: 0.3832 - val_accuracy: 0.8305\n",
      "Epoch 211/300\n",
      "596/596 [==============================] - 0s 116us/step - loss: 0.4339 - accuracy: 0.8171 - val_loss: 0.3976 - val_accuracy: 0.8305\n",
      "Epoch 212/300\n",
      "596/596 [==============================] - 0s 90us/step - loss: 0.4349 - accuracy: 0.8221 - val_loss: 0.3800 - val_accuracy: 0.8339\n",
      "Epoch 213/300\n",
      "596/596 [==============================] - 0s 79us/step - loss: 0.4363 - accuracy: 0.8255 - val_loss: 0.3737 - val_accuracy: 0.8339\n",
      "Epoch 214/300\n",
      "596/596 [==============================] - 0s 79us/step - loss: 0.4387 - accuracy: 0.8104 - val_loss: 0.4039 - val_accuracy: 0.8237\n",
      "Epoch 215/300\n",
      "596/596 [==============================] - 0s 90us/step - loss: 0.4394 - accuracy: 0.8205 - val_loss: 0.3787 - val_accuracy: 0.8339\n",
      "Epoch 216/300\n",
      "596/596 [==============================] - 0s 79us/step - loss: 0.4334 - accuracy: 0.8289 - val_loss: 0.3873 - val_accuracy: 0.8305\n",
      "Epoch 217/300\n",
      "596/596 [==============================] - 0s 63us/step - loss: 0.4338 - accuracy: 0.8238 - val_loss: 0.3876 - val_accuracy: 0.8305\n",
      "Epoch 218/300\n",
      "596/596 [==============================] - 0s 79us/step - loss: 0.4379 - accuracy: 0.8221 - val_loss: 0.3806 - val_accuracy: 0.8373\n",
      "Epoch 219/300\n",
      "596/596 [==============================] - 0s 90us/step - loss: 0.4347 - accuracy: 0.8272 - val_loss: 0.3778 - val_accuracy: 0.8339\n",
      "Epoch 220/300\n",
      "596/596 [==============================] - 0s 79us/step - loss: 0.4333 - accuracy: 0.8272 - val_loss: 0.3813 - val_accuracy: 0.8339\n",
      "Epoch 221/300\n",
      "596/596 [==============================] - 0s 116us/step - loss: 0.4351 - accuracy: 0.8238 - val_loss: 0.3838 - val_accuracy: 0.8339\n",
      "Epoch 222/300\n",
      "596/596 [==============================] - 0s 105us/step - loss: 0.4337 - accuracy: 0.8322 - val_loss: 0.3806 - val_accuracy: 0.8339\n",
      "Epoch 223/300\n",
      "596/596 [==============================] - 0s 79us/step - loss: 0.4334 - accuracy: 0.8272 - val_loss: 0.3906 - val_accuracy: 0.8339\n",
      "Epoch 224/300\n"
     ]
    },
    {
     "name": "stdout",
     "output_type": "stream",
     "text": [
      "596/596 [==============================] - 0s 90us/step - loss: 0.4329 - accuracy: 0.8305 - val_loss: 0.3830 - val_accuracy: 0.8339\n",
      "Epoch 225/300\n",
      "596/596 [==============================] - 0s 79us/step - loss: 0.4339 - accuracy: 0.8138 - val_loss: 0.3855 - val_accuracy: 0.8305\n",
      "Epoch 226/300\n",
      "596/596 [==============================] - 0s 90us/step - loss: 0.4353 - accuracy: 0.8305 - val_loss: 0.3747 - val_accuracy: 0.8441\n",
      "Epoch 227/300\n",
      "596/596 [==============================] - 0s 116us/step - loss: 0.4315 - accuracy: 0.8121 - val_loss: 0.4082 - val_accuracy: 0.8237\n",
      "Epoch 228/300\n",
      "596/596 [==============================] - 0s 79us/step - loss: 0.4451 - accuracy: 0.8188 - val_loss: 0.3788 - val_accuracy: 0.8373\n",
      "Epoch 229/300\n",
      "596/596 [==============================] - 0s 90us/step - loss: 0.4407 - accuracy: 0.8205 - val_loss: 0.3756 - val_accuracy: 0.8441\n",
      "Epoch 230/300\n",
      "596/596 [==============================] - ETA: 0s - loss: 0.3749 - accuracy: 0.87 - 0s 79us/step - loss: 0.4392 - accuracy: 0.8188 - val_loss: 0.3882 - val_accuracy: 0.8305\n",
      "Epoch 231/300\n",
      "596/596 [==============================] - 0s 90us/step - loss: 0.4347 - accuracy: 0.8255 - val_loss: 0.3996 - val_accuracy: 0.8271\n",
      "Epoch 232/300\n",
      "596/596 [==============================] - 0s 90us/step - loss: 0.4357 - accuracy: 0.8255 - val_loss: 0.3851 - val_accuracy: 0.8271\n",
      "Epoch 233/300\n",
      "596/596 [==============================] - 0s 105us/step - loss: 0.4325 - accuracy: 0.8305 - val_loss: 0.3868 - val_accuracy: 0.8271\n",
      "Epoch 234/300\n",
      "596/596 [==============================] - 0s 116us/step - loss: 0.4333 - accuracy: 0.8289 - val_loss: 0.3906 - val_accuracy: 0.8305\n",
      "Epoch 235/300\n",
      "596/596 [==============================] - 0s 116us/step - loss: 0.4328 - accuracy: 0.8272 - val_loss: 0.3880 - val_accuracy: 0.8305\n",
      "Epoch 236/300\n",
      "596/596 [==============================] - 0s 105us/step - loss: 0.4326 - accuracy: 0.8289 - val_loss: 0.3905 - val_accuracy: 0.8305\n",
      "Epoch 237/300\n",
      "596/596 [==============================] - 0s 116us/step - loss: 0.4327 - accuracy: 0.8305 - val_loss: 0.3802 - val_accuracy: 0.8339\n",
      "Epoch 238/300\n",
      "596/596 [==============================] - 0s 116us/step - loss: 0.4341 - accuracy: 0.8154 - val_loss: 0.4019 - val_accuracy: 0.8271\n",
      "Epoch 239/300\n",
      "596/596 [==============================] - 0s 105us/step - loss: 0.4360 - accuracy: 0.8205 - val_loss: 0.3766 - val_accuracy: 0.8305\n",
      "Epoch 240/300\n",
      "596/596 [==============================] - 0s 90us/step - loss: 0.4454 - accuracy: 0.8138 - val_loss: 0.3762 - val_accuracy: 0.8339\n",
      "Epoch 241/300\n",
      "596/596 [==============================] - 0s 105us/step - loss: 0.4326 - accuracy: 0.8289 - val_loss: 0.3827 - val_accuracy: 0.8305\n",
      "Epoch 242/300\n",
      "596/596 [==============================] - 0s 90us/step - loss: 0.4332 - accuracy: 0.8305 - val_loss: 0.3985 - val_accuracy: 0.8305\n",
      "Epoch 243/300\n",
      "596/596 [==============================] - 0s 79us/step - loss: 0.4323 - accuracy: 0.8255 - val_loss: 0.3852 - val_accuracy: 0.8305\n",
      "Epoch 244/300\n",
      "596/596 [==============================] - 0s 268us/step - loss: 0.4326 - accuracy: 0.8305 - val_loss: 0.3792 - val_accuracy: 0.8339\n",
      "Epoch 245/300\n",
      "596/596 [==============================] - 0s 156us/step - loss: 0.4339 - accuracy: 0.8238 - val_loss: 0.3999 - val_accuracy: 0.8305\n",
      "Epoch 246/300\n",
      "596/596 [==============================] - 0s 278us/step - loss: 0.4326 - accuracy: 0.8322 - val_loss: 0.3837 - val_accuracy: 0.8305\n",
      "Epoch 247/300\n",
      "596/596 [==============================] - 0s 223us/step - loss: 0.4323 - accuracy: 0.8289 - val_loss: 0.3837 - val_accuracy: 0.8305\n",
      "Epoch 248/300\n",
      "596/596 [==============================] - 0s 127us/step - loss: 0.4320 - accuracy: 0.8238 - val_loss: 0.3961 - val_accuracy: 0.8305\n",
      "Epoch 249/300\n",
      "596/596 [==============================] - 0s 142us/step - loss: 0.4324 - accuracy: 0.8289 - val_loss: 0.3757 - val_accuracy: 0.8407\n",
      "Epoch 250/300\n",
      "596/596 [==============================] - 0s 116us/step - loss: 0.4321 - accuracy: 0.8238 - val_loss: 0.3919 - val_accuracy: 0.8339\n",
      "Epoch 251/300\n",
      "596/596 [==============================] - 0s 79us/step - loss: 0.4335 - accuracy: 0.8305 - val_loss: 0.3821 - val_accuracy: 0.8305\n",
      "Epoch 252/300\n",
      "596/596 [==============================] - 0s 90us/step - loss: 0.4339 - accuracy: 0.8322 - val_loss: 0.3770 - val_accuracy: 0.8339\n",
      "Epoch 253/300\n",
      "596/596 [==============================] - 0s 105us/step - loss: 0.4324 - accuracy: 0.8255 - val_loss: 0.3880 - val_accuracy: 0.8271\n",
      "Epoch 254/300\n",
      "596/596 [==============================] - 0s 90us/step - loss: 0.4316 - accuracy: 0.8289 - val_loss: 0.3805 - val_accuracy: 0.8305\n",
      "Epoch 255/300\n",
      "596/596 [==============================] - 0s 79us/step - loss: 0.4316 - accuracy: 0.8305 - val_loss: 0.3778 - val_accuracy: 0.8305\n",
      "Epoch 256/300\n",
      "596/596 [==============================] - 0s 63us/step - loss: 0.4321 - accuracy: 0.8188 - val_loss: 0.3941 - val_accuracy: 0.8305\n",
      "Epoch 257/300\n",
      "596/596 [==============================] - 0s 79us/step - loss: 0.4313 - accuracy: 0.8305 - val_loss: 0.3816 - val_accuracy: 0.8305\n",
      "Epoch 258/300\n",
      "596/596 [==============================] - 0s 90us/step - loss: 0.4326 - accuracy: 0.8205 - val_loss: 0.3845 - val_accuracy: 0.8271\n",
      "Epoch 259/300\n",
      "596/596 [==============================] - 0s 79us/step - loss: 0.4312 - accuracy: 0.8322 - val_loss: 0.3788 - val_accuracy: 0.8339\n",
      "Epoch 260/300\n",
      "596/596 [==============================] - 0s 79us/step - loss: 0.4345 - accuracy: 0.8272 - val_loss: 0.3759 - val_accuracy: 0.8407\n",
      "Epoch 261/300\n",
      "596/596 [==============================] - 0s 90us/step - loss: 0.4342 - accuracy: 0.8104 - val_loss: 0.4070 - val_accuracy: 0.8271\n",
      "Epoch 262/300\n",
      "596/596 [==============================] - 0s 79us/step - loss: 0.4321 - accuracy: 0.8289 - val_loss: 0.3779 - val_accuracy: 0.8305\n",
      "Epoch 263/300\n",
      "596/596 [==============================] - 0s 90us/step - loss: 0.4355 - accuracy: 0.8289 - val_loss: 0.3771 - val_accuracy: 0.8305\n",
      "Epoch 264/300\n",
      "596/596 [==============================] - 0s 105us/step - loss: 0.4394 - accuracy: 0.8171 - val_loss: 0.3893 - val_accuracy: 0.8271\n",
      "Epoch 265/300\n",
      "596/596 [==============================] - 0s 90us/step - loss: 0.4318 - accuracy: 0.8289 - val_loss: 0.3840 - val_accuracy: 0.8271\n",
      "Epoch 266/300\n",
      "596/596 [==============================] - 0s 90us/step - loss: 0.4317 - accuracy: 0.8289 - val_loss: 0.3985 - val_accuracy: 0.8339\n",
      "Epoch 267/300\n",
      "596/596 [==============================] - 0s 79us/step - loss: 0.4343 - accuracy: 0.8188 - val_loss: 0.3755 - val_accuracy: 0.8441\n",
      "Epoch 268/300\n",
      "596/596 [==============================] - 0s 63us/step - loss: 0.4331 - accuracy: 0.8305 - val_loss: 0.3851 - val_accuracy: 0.8271\n",
      "Epoch 269/300\n",
      "596/596 [==============================] - 0s 79us/step - loss: 0.4307 - accuracy: 0.8289 - val_loss: 0.3883 - val_accuracy: 0.8271\n",
      "Epoch 270/300\n",
      "596/596 [==============================] - 0s 90us/step - loss: 0.4313 - accuracy: 0.8305 - val_loss: 0.3902 - val_accuracy: 0.8271\n",
      "Epoch 271/300\n",
      "596/596 [==============================] - 0s 105us/step - loss: 0.4320 - accuracy: 0.8305 - val_loss: 0.3762 - val_accuracy: 0.8339\n",
      "Epoch 272/300\n",
      "596/596 [==============================] - 0s 90us/step - loss: 0.4333 - accuracy: 0.8289 - val_loss: 0.3754 - val_accuracy: 0.8373\n",
      "Epoch 273/300\n",
      "596/596 [==============================] - 0s 90us/step - loss: 0.4330 - accuracy: 0.8305 - val_loss: 0.3830 - val_accuracy: 0.8271\n",
      "Epoch 274/300\n",
      "596/596 [==============================] - 0s 131us/step - loss: 0.4325 - accuracy: 0.8255 - val_loss: 0.3809 - val_accuracy: 0.8373\n",
      "Epoch 275/300\n",
      "596/596 [==============================] - 0s 168us/step - loss: 0.4326 - accuracy: 0.8305 - val_loss: 0.3824 - val_accuracy: 0.8271\n",
      "Epoch 276/300\n",
      "596/596 [==============================] - 0s 168us/step - loss: 0.4310 - accuracy: 0.8305 - val_loss: 0.3788 - val_accuracy: 0.8339\n",
      "Epoch 277/300\n",
      "596/596 [==============================] - 0s 131us/step - loss: 0.4352 - accuracy: 0.8238 - val_loss: 0.3890 - val_accuracy: 0.8271\n",
      "Epoch 278/300\n",
      "596/596 [==============================] - 0s 105us/step - loss: 0.4400 - accuracy: 0.8188 - val_loss: 0.3963 - val_accuracy: 0.8339\n",
      "Epoch 279/300\n",
      "596/596 [==============================] - 0s 194us/step - loss: 0.4400 - accuracy: 0.8121 - val_loss: 0.4020 - val_accuracy: 0.8305\n"
     ]
    },
    {
     "name": "stdout",
     "output_type": "stream",
     "text": [
      "Epoch 280/300\n",
      "596/596 [==============================] - 0s 168us/step - loss: 0.4357 - accuracy: 0.8221 - val_loss: 0.3740 - val_accuracy: 0.8441\n",
      "Epoch 281/300\n",
      "596/596 [==============================] - 0s 142us/step - loss: 0.4322 - accuracy: 0.8171 - val_loss: 0.3948 - val_accuracy: 0.8305\n",
      "Epoch 282/300\n",
      "596/596 [==============================] - 0s 142us/step - loss: 0.4334 - accuracy: 0.8305 - val_loss: 0.3851 - val_accuracy: 0.8271\n",
      "Epoch 283/300\n",
      "596/596 [==============================] - 0s 168us/step - loss: 0.4308 - accuracy: 0.8305 - val_loss: 0.3824 - val_accuracy: 0.8305\n",
      "Epoch 284/300\n",
      "596/596 [==============================] - 0s 142us/step - loss: 0.4314 - accuracy: 0.8305 - val_loss: 0.3904 - val_accuracy: 0.8271\n",
      "Epoch 285/300\n",
      "596/596 [==============================] - 0s 116us/step - loss: 0.4306 - accuracy: 0.8305 - val_loss: 0.3768 - val_accuracy: 0.8339\n",
      "Epoch 286/300\n",
      "596/596 [==============================] - 0s 116us/step - loss: 0.4382 - accuracy: 0.8138 - val_loss: 0.4134 - val_accuracy: 0.8271\n",
      "Epoch 287/300\n",
      "596/596 [==============================] - 0s 131us/step - loss: 0.4336 - accuracy: 0.8238 - val_loss: 0.3878 - val_accuracy: 0.8271\n",
      "Epoch 288/300\n",
      "596/596 [==============================] - 0s 168us/step - loss: 0.4342 - accuracy: 0.8255 - val_loss: 0.3747 - val_accuracy: 0.8441\n",
      "Epoch 289/300\n",
      "596/596 [==============================] - 0s 168us/step - loss: 0.4338 - accuracy: 0.8188 - val_loss: 0.3863 - val_accuracy: 0.8271\n",
      "Epoch 290/300\n",
      "596/596 [==============================] - 0s 90us/step - loss: 0.4304 - accuracy: 0.8305 - val_loss: 0.3857 - val_accuracy: 0.8271\n",
      "Epoch 291/300\n",
      "596/596 [==============================] - 0s 79us/step - loss: 0.4300 - accuracy: 0.8305 - val_loss: 0.3926 - val_accuracy: 0.8305\n",
      "Epoch 292/300\n",
      "596/596 [==============================] - 0s 79us/step - loss: 0.4344 - accuracy: 0.8289 - val_loss: 0.3937 - val_accuracy: 0.8305\n",
      "Epoch 293/300\n",
      "596/596 [==============================] - 0s 168us/step - loss: 0.4318 - accuracy: 0.8305 - val_loss: 0.3846 - val_accuracy: 0.8271\n",
      "Epoch 294/300\n",
      "596/596 [==============================] - 0s 168us/step - loss: 0.4310 - accuracy: 0.8255 - val_loss: 0.4044 - val_accuracy: 0.8339\n",
      "Epoch 295/300\n",
      "596/596 [==============================] - 0s 168us/step - loss: 0.4303 - accuracy: 0.8272 - val_loss: 0.3756 - val_accuracy: 0.8407\n",
      "Epoch 296/300\n",
      "596/596 [==============================] - 0s 142us/step - loss: 0.4317 - accuracy: 0.8289 - val_loss: 0.3958 - val_accuracy: 0.8305\n",
      "Epoch 297/300\n",
      "596/596 [==============================] - 0s 168us/step - loss: 0.4323 - accuracy: 0.8305 - val_loss: 0.3872 - val_accuracy: 0.8271\n",
      "Epoch 298/300\n",
      "596/596 [==============================] - 0s 168us/step - loss: 0.4300 - accuracy: 0.8305 - val_loss: 0.3835 - val_accuracy: 0.8271\n",
      "Epoch 299/300\n",
      "596/596 [==============================] - 0s 105us/step - loss: 0.4298 - accuracy: 0.8305 - val_loss: 0.3939 - val_accuracy: 0.8305\n",
      "Epoch 300/300\n",
      "596/596 [==============================] - 0s 90us/step - loss: 0.4302 - accuracy: 0.8289 - val_loss: 0.3921 - val_accuracy: 0.8305\n"
     ]
    }
   ],
   "source": [
    "# train the model\n",
    "checkpointer = ModelCheckpoint(filepath='titanic.nn.best.hdf5', verbose=0, save_best_only=True)\n",
    "\n",
    "history = model.fit(\n",
    "    X_train, \n",
    "    y_train, \n",
    "    validation_split=0.33, \n",
    "    epochs=300, \n",
    "    callbacks=[checkpointer],\n",
    "    batch_size=32, \n",
    "    verbose=1\n",
    ")"
   ]
  },
  {
   "cell_type": "code",
   "execution_count": 39,
   "metadata": {
    "scrolled": false
   },
   "outputs": [
    {
     "data": {
      "text/plain": [
       "<matplotlib.legend.Legend at 0x19e8afd7108>"
      ]
     },
     "execution_count": 39,
     "metadata": {},
     "output_type": "execute_result"
    },
    {
     "data": {
      "image/png": "[encoded data removed]",
      "text/plain": [
       "<Figure size 1080x576 with 2 Axes>"
      ]
     },
     "metadata": {},
     "output_type": "display_data"
    }
   ],
   "source": [
    "plt.figure(1, figsize = (15,8)) \n",
    "\n",
    "# summarize history for accuracy\n",
    "plt.subplot(221) \n",
    "plt.plot(history.history['accuracy'])\n",
    "plt.plot(history.history['val_accuracy'])\n",
    "plt.title('model accuracy')\n",
    "plt.ylabel('accuracy')\n",
    "plt.xlabel('epoch')\n",
    "plt.legend(['train', 'test'], loc='upper left')\n",
    "\n",
    "# summarize history for loss\n",
    "plt.subplot(222) \n",
    "plt.plot(history.history['loss'])\n",
    "plt.plot(history.history['val_loss'])\n",
    "plt.title('model loss')\n",
    "plt.ylabel('loss')\n",
    "plt.xlabel('epoch')\n",
    "plt.legend(['train', 'test'], loc='upper left')"
   ]
  },
  {
   "cell_type": "code",
   "execution_count": 38,
   "metadata": {},
   "outputs": [
    {
     "name": "stdout",
     "output_type": "stream",
     "text": [
      "Test accuracy: 95.4545%\n"
     ]
    }
   ],
   "source": [
    "# evaluate test accuracy\n",
    "score = model.evaluate(X_test, y_test, verbose=0)\n",
    "accuracy = 100*score[1]\n",
    "\n",
    "# print test accuracy\n",
    "print('Test accuracy: %.4f%%' % accuracy)"
   ]
  },
  {
   "cell_type": "code",
   "execution_count": 58,
   "metadata": {},
   "outputs": [],
   "source": [
    "# Submit predictions\n",
    "predictions = [0 if val[0] < 0.5 else 1 for val in model.predict(X_test)]\n",
    "\n",
    "submission = pd.DataFrame({\n",
    "    'PassengerId': pd.read_csv('gender_submission.csv')['PassengerId'],\n",
    "    'Survived': predictions\n",
    "})\n",
    "submission.to_csv('submission.csv', index=False)"
   ]
  }
 ],
 "metadata": {
  "kernelspec": {
   "display_name": "Python 3",
   "language": "python",
   "name": "python3"
  },
  "language_info": {
   "codemirror_mode": {
    "name": "ipython",
    "version": 3
   },
   "file_extension": ".py",
   "mimetype": "text/x-python",
   "name": "python",
   "nbconvert_exporter": "python",
   "pygments_lexer": "ipython3",
   "version": "3.7.6"
  }
 },
 "nbformat": 4,
 "nbformat_minor": 4
}
